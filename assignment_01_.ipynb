{
  "nbformat": 4,
  "nbformat_minor": 0,
  "metadata": {
    "colab": {
      "name": "assignment_01  .ipynb",
      "provenance": [],
      "authorship_tag": "ABX9TyPDeUIF/wWcb8RQc2pJcN4b",
      "include_colab_link": true
    },
    "kernelspec": {
      "name": "python3",
      "display_name": "Python 3"
    },
    "language_info": {
      "name": "python"
    }
  },
  "cells": [
    {
      "cell_type": "markdown",
      "metadata": {
        "id": "view-in-github",
        "colab_type": "text"
      },
      "source": [
        "<a href=\"https://colab.research.google.com/github/Ksheeraja-sricharanyan/MLnow_2.0/blob/main/assignment_01_.ipynb\" target=\"_parent\"><img src=\"https://colab.research.google.com/assets/colab-badge.svg\" alt=\"Open In Colab\"/></a>"
      ]
    },
    {
      "cell_type": "markdown",
      "metadata": {
        "id": "ZMWWh7wEyUpB"
      },
      "source": [
        "Assignment_01\n",
        "\n",
        "This dataset contains the data of different exams and chance of getting admission in universities\n",
        "\n",
        "the model is trained to find the error when sop is plottedagainst cgpa"
      ]
    },
    {
      "cell_type": "code",
      "metadata": {
        "colab": {
          "base_uri": "https://localhost:8080/"
        },
        "id": "RROCyLxbn2nV",
        "outputId": "31316181-89ca-468e-9f4f-660032c2d2cf"
      },
      "source": [
        "from google.colab import drive\n",
        "drive.mount('/content/drive/')"
      ],
      "execution_count": 2,
      "outputs": [
        {
          "output_type": "stream",
          "text": [
            "Mounted at /content/drive/\n"
          ],
          "name": "stdout"
        }
      ]
    },
    {
      "cell_type": "code",
      "metadata": {
        "colab": {
          "base_uri": "https://localhost:8080/"
        },
        "id": "JpJNb6K3oR6J",
        "outputId": "c33945a8-045c-409b-c73d-1d34b9f33887"
      },
      "source": [
        "cd'/content/drive/MyDrive/Colab Notebooks/univariate linear reg'"
      ],
      "execution_count": 3,
      "outputs": [
        {
          "output_type": "stream",
          "text": [
            "/content/drive/MyDrive/Colab Notebooks/univariate linear reg\n"
          ],
          "name": "stdout"
        }
      ]
    },
    {
      "cell_type": "code",
      "metadata": {
        "colab": {
          "base_uri": "https://localhost:8080/"
        },
        "id": "UES242_roYxw",
        "outputId": "357f77c6-ecdf-4d90-9c3c-72efaf0591dd"
      },
      "source": [
        "ls"
      ],
      "execution_count": 4,
      "outputs": [
        {
          "output_type": "stream",
          "text": [
            "Admission_Predict.csv  Admission_Predict_Ver1.1.csv\n"
          ],
          "name": "stdout"
        }
      ]
    },
    {
      "cell_type": "code",
      "metadata": {
        "id": "FjTvlJiJocPI"
      },
      "source": [
        "import os\n",
        "import pandas as pd\n",
        "import numpy as np\n",
        "import tensorflow as tf\n",
        "from tensorflow import keras\n",
        "import os"
      ],
      "execution_count": 5,
      "outputs": []
    },
    {
      "cell_type": "code",
      "metadata": {
        "id": "xyEPUC2ZowRp"
      },
      "source": [
        "Data=pd.read_csv('Admission_Predict.csv', sep=',')"
      ],
      "execution_count": 8,
      "outputs": []
    },
    {
      "cell_type": "code",
      "metadata": {
        "colab": {
          "base_uri": "https://localhost:8080/",
          "height": 204
        },
        "id": "D9DGuxoTo5SR",
        "outputId": "b43b3ac8-8823-4fdc-fdeb-b03f6f1a8f04"
      },
      "source": [
        "Data.head(5)"
      ],
      "execution_count": 9,
      "outputs": [
        {
          "output_type": "execute_result",
          "data": {
            "text/html": [
              "<div>\n",
              "<style scoped>\n",
              "    .dataframe tbody tr th:only-of-type {\n",
              "        vertical-align: middle;\n",
              "    }\n",
              "\n",
              "    .dataframe tbody tr th {\n",
              "        vertical-align: top;\n",
              "    }\n",
              "\n",
              "    .dataframe thead th {\n",
              "        text-align: right;\n",
              "    }\n",
              "</style>\n",
              "<table border=\"1\" class=\"dataframe\">\n",
              "  <thead>\n",
              "    <tr style=\"text-align: right;\">\n",
              "      <th></th>\n",
              "      <th>Serial No.</th>\n",
              "      <th>GRE Score</th>\n",
              "      <th>TOEFL Score</th>\n",
              "      <th>University Rating</th>\n",
              "      <th>SOP</th>\n",
              "      <th>LOR</th>\n",
              "      <th>CGPA</th>\n",
              "      <th>Research</th>\n",
              "      <th>Chance of Admit</th>\n",
              "    </tr>\n",
              "  </thead>\n",
              "  <tbody>\n",
              "    <tr>\n",
              "      <th>0</th>\n",
              "      <td>1</td>\n",
              "      <td>337</td>\n",
              "      <td>118</td>\n",
              "      <td>4</td>\n",
              "      <td>4.5</td>\n",
              "      <td>4.5</td>\n",
              "      <td>9.65</td>\n",
              "      <td>1</td>\n",
              "      <td>0.92</td>\n",
              "    </tr>\n",
              "    <tr>\n",
              "      <th>1</th>\n",
              "      <td>2</td>\n",
              "      <td>324</td>\n",
              "      <td>107</td>\n",
              "      <td>4</td>\n",
              "      <td>4.0</td>\n",
              "      <td>4.5</td>\n",
              "      <td>8.87</td>\n",
              "      <td>1</td>\n",
              "      <td>0.76</td>\n",
              "    </tr>\n",
              "    <tr>\n",
              "      <th>2</th>\n",
              "      <td>3</td>\n",
              "      <td>316</td>\n",
              "      <td>104</td>\n",
              "      <td>3</td>\n",
              "      <td>3.0</td>\n",
              "      <td>3.5</td>\n",
              "      <td>8.00</td>\n",
              "      <td>1</td>\n",
              "      <td>0.72</td>\n",
              "    </tr>\n",
              "    <tr>\n",
              "      <th>3</th>\n",
              "      <td>4</td>\n",
              "      <td>322</td>\n",
              "      <td>110</td>\n",
              "      <td>3</td>\n",
              "      <td>3.5</td>\n",
              "      <td>2.5</td>\n",
              "      <td>8.67</td>\n",
              "      <td>1</td>\n",
              "      <td>0.80</td>\n",
              "    </tr>\n",
              "    <tr>\n",
              "      <th>4</th>\n",
              "      <td>5</td>\n",
              "      <td>314</td>\n",
              "      <td>103</td>\n",
              "      <td>2</td>\n",
              "      <td>2.0</td>\n",
              "      <td>3.0</td>\n",
              "      <td>8.21</td>\n",
              "      <td>0</td>\n",
              "      <td>0.65</td>\n",
              "    </tr>\n",
              "  </tbody>\n",
              "</table>\n",
              "</div>"
            ],
            "text/plain": [
              "   Serial No.  GRE Score  TOEFL Score  ...  CGPA  Research  Chance of Admit \n",
              "0           1        337          118  ...  9.65         1              0.92\n",
              "1           2        324          107  ...  8.87         1              0.76\n",
              "2           3        316          104  ...  8.00         1              0.72\n",
              "3           4        322          110  ...  8.67         1              0.80\n",
              "4           5        314          103  ...  8.21         0              0.65\n",
              "\n",
              "[5 rows x 9 columns]"
            ]
          },
          "metadata": {
            "tags": []
          },
          "execution_count": 9
        }
      ]
    },
    {
      "cell_type": "code",
      "metadata": {
        "colab": {
          "base_uri": "https://localhost:8080/",
          "height": 204
        },
        "id": "Z1dVoIGwpUm4",
        "outputId": "9f7c6e65-ee80-4478-e5b1-7dec428a6da5"
      },
      "source": [
        "Data.tail()"
      ],
      "execution_count": 10,
      "outputs": [
        {
          "output_type": "execute_result",
          "data": {
            "text/html": [
              "<div>\n",
              "<style scoped>\n",
              "    .dataframe tbody tr th:only-of-type {\n",
              "        vertical-align: middle;\n",
              "    }\n",
              "\n",
              "    .dataframe tbody tr th {\n",
              "        vertical-align: top;\n",
              "    }\n",
              "\n",
              "    .dataframe thead th {\n",
              "        text-align: right;\n",
              "    }\n",
              "</style>\n",
              "<table border=\"1\" class=\"dataframe\">\n",
              "  <thead>\n",
              "    <tr style=\"text-align: right;\">\n",
              "      <th></th>\n",
              "      <th>Serial No.</th>\n",
              "      <th>GRE Score</th>\n",
              "      <th>TOEFL Score</th>\n",
              "      <th>University Rating</th>\n",
              "      <th>SOP</th>\n",
              "      <th>LOR</th>\n",
              "      <th>CGPA</th>\n",
              "      <th>Research</th>\n",
              "      <th>Chance of Admit</th>\n",
              "    </tr>\n",
              "  </thead>\n",
              "  <tbody>\n",
              "    <tr>\n",
              "      <th>395</th>\n",
              "      <td>396</td>\n",
              "      <td>324</td>\n",
              "      <td>110</td>\n",
              "      <td>3</td>\n",
              "      <td>3.5</td>\n",
              "      <td>3.5</td>\n",
              "      <td>9.04</td>\n",
              "      <td>1</td>\n",
              "      <td>0.82</td>\n",
              "    </tr>\n",
              "    <tr>\n",
              "      <th>396</th>\n",
              "      <td>397</td>\n",
              "      <td>325</td>\n",
              "      <td>107</td>\n",
              "      <td>3</td>\n",
              "      <td>3.0</td>\n",
              "      <td>3.5</td>\n",
              "      <td>9.11</td>\n",
              "      <td>1</td>\n",
              "      <td>0.84</td>\n",
              "    </tr>\n",
              "    <tr>\n",
              "      <th>397</th>\n",
              "      <td>398</td>\n",
              "      <td>330</td>\n",
              "      <td>116</td>\n",
              "      <td>4</td>\n",
              "      <td>5.0</td>\n",
              "      <td>4.5</td>\n",
              "      <td>9.45</td>\n",
              "      <td>1</td>\n",
              "      <td>0.91</td>\n",
              "    </tr>\n",
              "    <tr>\n",
              "      <th>398</th>\n",
              "      <td>399</td>\n",
              "      <td>312</td>\n",
              "      <td>103</td>\n",
              "      <td>3</td>\n",
              "      <td>3.5</td>\n",
              "      <td>4.0</td>\n",
              "      <td>8.78</td>\n",
              "      <td>0</td>\n",
              "      <td>0.67</td>\n",
              "    </tr>\n",
              "    <tr>\n",
              "      <th>399</th>\n",
              "      <td>400</td>\n",
              "      <td>333</td>\n",
              "      <td>117</td>\n",
              "      <td>4</td>\n",
              "      <td>5.0</td>\n",
              "      <td>4.0</td>\n",
              "      <td>9.66</td>\n",
              "      <td>1</td>\n",
              "      <td>0.95</td>\n",
              "    </tr>\n",
              "  </tbody>\n",
              "</table>\n",
              "</div>"
            ],
            "text/plain": [
              "     Serial No.  GRE Score  TOEFL Score  ...  CGPA  Research  Chance of Admit \n",
              "395         396        324          110  ...  9.04         1              0.82\n",
              "396         397        325          107  ...  9.11         1              0.84\n",
              "397         398        330          116  ...  9.45         1              0.91\n",
              "398         399        312          103  ...  8.78         0              0.67\n",
              "399         400        333          117  ...  9.66         1              0.95\n",
              "\n",
              "[5 rows x 9 columns]"
            ]
          },
          "metadata": {
            "tags": []
          },
          "execution_count": 10
        }
      ]
    },
    {
      "cell_type": "code",
      "metadata": {
        "colab": {
          "base_uri": "https://localhost:8080/",
          "height": 419
        },
        "id": "MtPHJD7epeFX",
        "outputId": "8128f249-2138-4c52-99fa-3efdf15bf354"
      },
      "source": [
        "Data.isnull()"
      ],
      "execution_count": 11,
      "outputs": [
        {
          "output_type": "execute_result",
          "data": {
            "text/html": [
              "<div>\n",
              "<style scoped>\n",
              "    .dataframe tbody tr th:only-of-type {\n",
              "        vertical-align: middle;\n",
              "    }\n",
              "\n",
              "    .dataframe tbody tr th {\n",
              "        vertical-align: top;\n",
              "    }\n",
              "\n",
              "    .dataframe thead th {\n",
              "        text-align: right;\n",
              "    }\n",
              "</style>\n",
              "<table border=\"1\" class=\"dataframe\">\n",
              "  <thead>\n",
              "    <tr style=\"text-align: right;\">\n",
              "      <th></th>\n",
              "      <th>Serial No.</th>\n",
              "      <th>GRE Score</th>\n",
              "      <th>TOEFL Score</th>\n",
              "      <th>University Rating</th>\n",
              "      <th>SOP</th>\n",
              "      <th>LOR</th>\n",
              "      <th>CGPA</th>\n",
              "      <th>Research</th>\n",
              "      <th>Chance of Admit</th>\n",
              "    </tr>\n",
              "  </thead>\n",
              "  <tbody>\n",
              "    <tr>\n",
              "      <th>0</th>\n",
              "      <td>False</td>\n",
              "      <td>False</td>\n",
              "      <td>False</td>\n",
              "      <td>False</td>\n",
              "      <td>False</td>\n",
              "      <td>False</td>\n",
              "      <td>False</td>\n",
              "      <td>False</td>\n",
              "      <td>False</td>\n",
              "    </tr>\n",
              "    <tr>\n",
              "      <th>1</th>\n",
              "      <td>False</td>\n",
              "      <td>False</td>\n",
              "      <td>False</td>\n",
              "      <td>False</td>\n",
              "      <td>False</td>\n",
              "      <td>False</td>\n",
              "      <td>False</td>\n",
              "      <td>False</td>\n",
              "      <td>False</td>\n",
              "    </tr>\n",
              "    <tr>\n",
              "      <th>2</th>\n",
              "      <td>False</td>\n",
              "      <td>False</td>\n",
              "      <td>False</td>\n",
              "      <td>False</td>\n",
              "      <td>False</td>\n",
              "      <td>False</td>\n",
              "      <td>False</td>\n",
              "      <td>False</td>\n",
              "      <td>False</td>\n",
              "    </tr>\n",
              "    <tr>\n",
              "      <th>3</th>\n",
              "      <td>False</td>\n",
              "      <td>False</td>\n",
              "      <td>False</td>\n",
              "      <td>False</td>\n",
              "      <td>False</td>\n",
              "      <td>False</td>\n",
              "      <td>False</td>\n",
              "      <td>False</td>\n",
              "      <td>False</td>\n",
              "    </tr>\n",
              "    <tr>\n",
              "      <th>4</th>\n",
              "      <td>False</td>\n",
              "      <td>False</td>\n",
              "      <td>False</td>\n",
              "      <td>False</td>\n",
              "      <td>False</td>\n",
              "      <td>False</td>\n",
              "      <td>False</td>\n",
              "      <td>False</td>\n",
              "      <td>False</td>\n",
              "    </tr>\n",
              "    <tr>\n",
              "      <th>...</th>\n",
              "      <td>...</td>\n",
              "      <td>...</td>\n",
              "      <td>...</td>\n",
              "      <td>...</td>\n",
              "      <td>...</td>\n",
              "      <td>...</td>\n",
              "      <td>...</td>\n",
              "      <td>...</td>\n",
              "      <td>...</td>\n",
              "    </tr>\n",
              "    <tr>\n",
              "      <th>395</th>\n",
              "      <td>False</td>\n",
              "      <td>False</td>\n",
              "      <td>False</td>\n",
              "      <td>False</td>\n",
              "      <td>False</td>\n",
              "      <td>False</td>\n",
              "      <td>False</td>\n",
              "      <td>False</td>\n",
              "      <td>False</td>\n",
              "    </tr>\n",
              "    <tr>\n",
              "      <th>396</th>\n",
              "      <td>False</td>\n",
              "      <td>False</td>\n",
              "      <td>False</td>\n",
              "      <td>False</td>\n",
              "      <td>False</td>\n",
              "      <td>False</td>\n",
              "      <td>False</td>\n",
              "      <td>False</td>\n",
              "      <td>False</td>\n",
              "    </tr>\n",
              "    <tr>\n",
              "      <th>397</th>\n",
              "      <td>False</td>\n",
              "      <td>False</td>\n",
              "      <td>False</td>\n",
              "      <td>False</td>\n",
              "      <td>False</td>\n",
              "      <td>False</td>\n",
              "      <td>False</td>\n",
              "      <td>False</td>\n",
              "      <td>False</td>\n",
              "    </tr>\n",
              "    <tr>\n",
              "      <th>398</th>\n",
              "      <td>False</td>\n",
              "      <td>False</td>\n",
              "      <td>False</td>\n",
              "      <td>False</td>\n",
              "      <td>False</td>\n",
              "      <td>False</td>\n",
              "      <td>False</td>\n",
              "      <td>False</td>\n",
              "      <td>False</td>\n",
              "    </tr>\n",
              "    <tr>\n",
              "      <th>399</th>\n",
              "      <td>False</td>\n",
              "      <td>False</td>\n",
              "      <td>False</td>\n",
              "      <td>False</td>\n",
              "      <td>False</td>\n",
              "      <td>False</td>\n",
              "      <td>False</td>\n",
              "      <td>False</td>\n",
              "      <td>False</td>\n",
              "    </tr>\n",
              "  </tbody>\n",
              "</table>\n",
              "<p>400 rows × 9 columns</p>\n",
              "</div>"
            ],
            "text/plain": [
              "     Serial No.  GRE Score  TOEFL Score  ...   CGPA  Research  Chance of Admit \n",
              "0         False      False        False  ...  False     False             False\n",
              "1         False      False        False  ...  False     False             False\n",
              "2         False      False        False  ...  False     False             False\n",
              "3         False      False        False  ...  False     False             False\n",
              "4         False      False        False  ...  False     False             False\n",
              "..          ...        ...          ...  ...    ...       ...               ...\n",
              "395       False      False        False  ...  False     False             False\n",
              "396       False      False        False  ...  False     False             False\n",
              "397       False      False        False  ...  False     False             False\n",
              "398       False      False        False  ...  False     False             False\n",
              "399       False      False        False  ...  False     False             False\n",
              "\n",
              "[400 rows x 9 columns]"
            ]
          },
          "metadata": {
            "tags": []
          },
          "execution_count": 11
        }
      ]
    },
    {
      "cell_type": "code",
      "metadata": {
        "colab": {
          "base_uri": "https://localhost:8080/"
        },
        "id": "mGsATEmDqpCx",
        "outputId": "0cc5407a-6350-477c-8fc8-91f1fc2a7b0c"
      },
      "source": [
        "Data.isnull().sum()"
      ],
      "execution_count": 12,
      "outputs": [
        {
          "output_type": "execute_result",
          "data": {
            "text/plain": [
              "Serial No.           0\n",
              "GRE Score            0\n",
              "TOEFL Score          0\n",
              "University Rating    0\n",
              "SOP                  0\n",
              "LOR                  0\n",
              "CGPA                 0\n",
              "Research             0\n",
              "Chance of Admit      0\n",
              "dtype: int64"
            ]
          },
          "metadata": {
            "tags": []
          },
          "execution_count": 12
        }
      ]
    },
    {
      "cell_type": "code",
      "metadata": {
        "colab": {
          "base_uri": "https://localhost:8080/"
        },
        "id": "-x2tHWYFqusA",
        "outputId": "c1a67f87-509b-4644-9d49-6dadaf792f41"
      },
      "source": [
        "Data.columns"
      ],
      "execution_count": 16,
      "outputs": [
        {
          "output_type": "execute_result",
          "data": {
            "text/plain": [
              "Index(['Serial No.', 'GRE Score', 'TOEFL Score', 'University Rating', 'SOP',\n",
              "       'LOR ', 'CGPA', 'Research', 'Chance of Admit '],\n",
              "      dtype='object')"
            ]
          },
          "metadata": {
            "tags": []
          },
          "execution_count": 16
        }
      ]
    },
    {
      "cell_type": "code",
      "metadata": {
        "id": "AraqZlE3rSCI"
      },
      "source": [
        "Data=Data[['SOP', 'CGPA']]"
      ],
      "execution_count": 20,
      "outputs": []
    },
    {
      "cell_type": "code",
      "metadata": {
        "colab": {
          "base_uri": "https://localhost:8080/",
          "height": 204
        },
        "id": "LNVbNIldsKXY",
        "outputId": "60f4c479-fb70-424a-f97c-0957631c0adf"
      },
      "source": [
        "Data.head()"
      ],
      "execution_count": 21,
      "outputs": [
        {
          "output_type": "execute_result",
          "data": {
            "text/html": [
              "<div>\n",
              "<style scoped>\n",
              "    .dataframe tbody tr th:only-of-type {\n",
              "        vertical-align: middle;\n",
              "    }\n",
              "\n",
              "    .dataframe tbody tr th {\n",
              "        vertical-align: top;\n",
              "    }\n",
              "\n",
              "    .dataframe thead th {\n",
              "        text-align: right;\n",
              "    }\n",
              "</style>\n",
              "<table border=\"1\" class=\"dataframe\">\n",
              "  <thead>\n",
              "    <tr style=\"text-align: right;\">\n",
              "      <th></th>\n",
              "      <th>SOP</th>\n",
              "      <th>CGPA</th>\n",
              "    </tr>\n",
              "  </thead>\n",
              "  <tbody>\n",
              "    <tr>\n",
              "      <th>0</th>\n",
              "      <td>4.5</td>\n",
              "      <td>9.65</td>\n",
              "    </tr>\n",
              "    <tr>\n",
              "      <th>1</th>\n",
              "      <td>4.0</td>\n",
              "      <td>8.87</td>\n",
              "    </tr>\n",
              "    <tr>\n",
              "      <th>2</th>\n",
              "      <td>3.0</td>\n",
              "      <td>8.00</td>\n",
              "    </tr>\n",
              "    <tr>\n",
              "      <th>3</th>\n",
              "      <td>3.5</td>\n",
              "      <td>8.67</td>\n",
              "    </tr>\n",
              "    <tr>\n",
              "      <th>4</th>\n",
              "      <td>2.0</td>\n",
              "      <td>8.21</td>\n",
              "    </tr>\n",
              "  </tbody>\n",
              "</table>\n",
              "</div>"
            ],
            "text/plain": [
              "   SOP  CGPA\n",
              "0  4.5  9.65\n",
              "1  4.0  8.87\n",
              "2  3.0  8.00\n",
              "3  3.5  8.67\n",
              "4  2.0  8.21"
            ]
          },
          "metadata": {
            "tags": []
          },
          "execution_count": 21
        }
      ]
    },
    {
      "cell_type": "code",
      "metadata": {
        "id": "YFC7yD2DsQqg"
      },
      "source": [
        "Data.to_csv('Admission_Predict_1.csv')"
      ],
      "execution_count": 24,
      "outputs": []
    },
    {
      "cell_type": "code",
      "metadata": {
        "colab": {
          "base_uri": "https://localhost:8080/"
        },
        "id": "BCEnNWxgsmJB",
        "outputId": "77f0b9c7-dc7a-4c7f-c67c-4e20e7ce35b1"
      },
      "source": [
        "ls"
      ],
      "execution_count": 25,
      "outputs": [
        {
          "output_type": "stream",
          "text": [
            "Admission_Predict_1.csv  Admission_Predict.csv  Admission_Predict_Ver1.1.csv\n"
          ],
          "name": "stdout"
        }
      ]
    },
    {
      "cell_type": "code",
      "metadata": {
        "colab": {
          "base_uri": "https://localhost:8080/",
          "height": 147
        },
        "id": "RXgQ18TessPb",
        "outputId": "a058700c-06f8-4d69-f685-4271ede73ed9"
      },
      "source": [
        "import seaborn as sns\n",
        "sns.palplot(sns.color_palette('PuOr')) \n",
        "pal = sns.color_palette('PuOr', 6) \n",
        "pal.as_hex() "
      ],
      "execution_count": 26,
      "outputs": [
        {
          "output_type": "execute_result",
          "data": {
            "text/html": [
              "<svg  width=\"330\" height=\"55\"><rect x=\"0\" y=\"0\" width=\"55\" height=\"55\" style=\"fill:#c6690c;stroke-width:2;stroke:rgb(255,255,255)\"/><rect x=\"55\" y=\"0\" width=\"55\" height=\"55\" style=\"fill:#f9b158;stroke-width:2;stroke:rgb(255,255,255)\"/><rect x=\"110\" y=\"0\" width=\"55\" height=\"55\" style=\"fill:#fce6c8;stroke-width:2;stroke:rgb(255,255,255)\"/><rect x=\"165\" y=\"0\" width=\"55\" height=\"55\" style=\"fill:#e1e2ee;stroke-width:2;stroke:rgb(255,255,255)\"/><rect x=\"220\" y=\"0\" width=\"55\" height=\"55\" style=\"fill:#aba3cd;stroke-width:2;stroke:rgb(255,255,255)\"/><rect x=\"275\" y=\"0\" width=\"55\" height=\"55\" style=\"fill:#664697;stroke-width:2;stroke:rgb(255,255,255)\"/></svg>"
            ],
            "text/plain": [
              "['#c6690c', '#f9b158', '#fce6c8', '#e1e2ee', '#aba3cd', '#664697']"
            ]
          },
          "metadata": {
            "tags": []
          },
          "execution_count": 26
        },
        {
          "output_type": "display_data",
          "data": {
            "image/png": "[encoded data removed]",
            "text/plain": [
              "<Figure size 432x72 with 1 Axes>"
            ]
          },
          "metadata": {
            "tags": [],
            "needs_background": "light"
          }
        }
      ]
    },
    {
      "cell_type": "code",
      "metadata": {
        "colab": {
          "base_uri": "https://localhost:8080/",
          "height": 85
        },
        "id": "GjNw_KUDszjP",
        "outputId": "1af35540-949d-4766-a2e5-86846ad44a45"
      },
      "source": [
        "import matplotlib.pyplot as plt\n",
        "plt.style.use(['seaborn'])\n",
        "sns_colors = ['#c6690c', '#664697'] #orange Purple hex codes\n",
        "sns.set_palette(sns_colors) #set the palette as sns_colors \n",
        "sns.palplot(sns.color_palette(sns_colors)) "
      ],
      "execution_count": 27,
      "outputs": [
        {
          "output_type": "display_data",
          "data": {
            "image/png": "[encoded data removed]",
            "text/plain": [
              "<Figure size 144x72 with 1 Axes>"
            ]
          },
          "metadata": {
            "tags": []
          }
        }
      ]
    },
    {
      "cell_type": "code",
      "metadata": {
        "colab": {
          "base_uri": "https://localhost:8080/",
          "height": 391
        },
        "id": "O22Oe7afs4yh",
        "outputId": "cc0da51b-e2b1-4811-bde6-b6edaa85fdbd"
      },
      "source": [
        "sns.pairplot(Data,\n",
        "             x_vars = ['SOP', 'CGPA'],\n",
        "             y_vars =  ['SOP', 'CGPA'],\n",
        "       diag_kind='kde'\n",
        "             )"
      ],
      "execution_count": 29,
      "outputs": [
        {
          "output_type": "execute_result",
          "data": {
            "text/plain": [
              "<seaborn.axisgrid.PairGrid at 0x7fbbd3350590>"
            ]
          },
          "metadata": {
            "tags": []
          },
          "execution_count": 29
        },
        {
          "output_type": "display_data",
          "data": {
            "image/png": "[encoded data removed]",
            "text/plain": [
              "<Figure size 360x360 with 6 Axes>"
            ]
          },
          "metadata": {
            "tags": []
          }
        }
      ]
    },
    {
      "cell_type": "code",
      "metadata": {
        "colab": {
          "base_uri": "https://localhost:8080/"
        },
        "id": "FMwhk83ftKH_",
        "outputId": "f88f8e8f-f348-4b9f-d5c1-ca9e9e58139f"
      },
      "source": [
        "trainDataset = Data.sample(frac=0.8, random_state=0) \n",
        "print(trainDataset.head())"
      ],
      "execution_count": 30,
      "outputs": [
        {
          "output_type": "stream",
          "text": [
            "     SOP  CGPA\n",
            "132  3.5  8.56\n",
            "309  3.5  8.60\n",
            "341  3.5  8.76\n",
            "196  3.0  8.26\n",
            "246  3.0  8.73\n"
          ],
          "name": "stdout"
        }
      ]
    },
    {
      "cell_type": "code",
      "metadata": {
        "colab": {
          "base_uri": "https://localhost:8080/"
        },
        "id": "8WN8Z6UouIMj",
        "outputId": "4bab68c4-b1da-46ac-ac05-9fb3c60531af"
      },
      "source": [
        "testDataset= Data.drop(trainDataset.index)\n",
        "print(testDataset.head())"
      ],
      "execution_count": 31,
      "outputs": [
        {
          "output_type": "stream",
          "text": [
            "    SOP  CGPA\n",
            "9   3.5   8.6\n",
            "25  4.5   9.6\n",
            "28  2.0   7.2\n",
            "31  4.0   8.3\n",
            "32  3.0   9.4\n"
          ],
          "name": "stdout"
        }
      ]
    },
    {
      "cell_type": "code",
      "metadata": {
        "colab": {
          "base_uri": "https://localhost:8080/"
        },
        "id": "bW7c3dbEuWSB",
        "outputId": "beff4fe9-a9cb-4809-dfd9-85077e25cbd1"
      },
      "source": [
        "print(trainDataset.shape)\n",
        "print(testDataset.shape)"
      ],
      "execution_count": 32,
      "outputs": [
        {
          "output_type": "stream",
          "text": [
            "(320, 2)\n",
            "(80, 2)\n"
          ],
          "name": "stdout"
        }
      ]
    },
    {
      "cell_type": "code",
      "metadata": {
        "colab": {
          "base_uri": "https://localhost:8080/"
        },
        "id": "zReVwhpzubLS",
        "outputId": "f28f2e53-329c-47d9-b510-9b0fded25f57"
      },
      "source": [
        "\n",
        "trainFeatures = trainDataset.copy()\n",
        "testFeatures = testDataset.copy()\n",
        "\n",
        "print(trainFeatures.head())\n",
        "print(testFeatures.head())"
      ],
      "execution_count": 33,
      "outputs": [
        {
          "output_type": "stream",
          "text": [
            "     SOP  CGPA\n",
            "132  3.5  8.56\n",
            "309  3.5  8.60\n",
            "341  3.5  8.76\n",
            "196  3.0  8.26\n",
            "246  3.0  8.73\n",
            "    SOP  CGPA\n",
            "9   3.5   8.6\n",
            "25  4.5   9.6\n",
            "28  2.0   7.2\n",
            "31  4.0   8.3\n",
            "32  3.0   9.4\n"
          ],
          "name": "stdout"
        }
      ]
    },
    {
      "cell_type": "code",
      "metadata": {
        "colab": {
          "base_uri": "https://localhost:8080/"
        },
        "id": "AhRDYioLuhAX",
        "outputId": "69e0f7bc-23e5-42be-baa6-16d5131c7c52"
      },
      "source": [
        "trainLabels = trainFeatures.pop('CGPA')\n",
        "testLabels = testFeatures.pop('CGPA')\n",
        "\n",
        "print(trainLabels.head())\n",
        "print(testLabels.head())"
      ],
      "execution_count": 34,
      "outputs": [
        {
          "output_type": "stream",
          "text": [
            "132    8.56\n",
            "309    8.60\n",
            "341    8.76\n",
            "196    8.26\n",
            "246    8.73\n",
            "Name: CGPA, dtype: float64\n",
            "9     8.6\n",
            "25    9.6\n",
            "28    7.2\n",
            "31    8.3\n",
            "32    9.4\n",
            "Name: CGPA, dtype: float64\n"
          ],
          "name": "stdout"
        }
      ]
    },
    {
      "cell_type": "code",
      "metadata": {
        "colab": {
          "base_uri": "https://localhost:8080/"
        },
        "id": "Q3chJ0W5uuc_",
        "outputId": "63bc073f-5b06-4fe5-a22f-cf3a5ad2389d"
      },
      "source": [
        "print(trainFeatures.head())\n",
        "print(testFeatures.head())"
      ],
      "execution_count": 35,
      "outputs": [
        {
          "output_type": "stream",
          "text": [
            "     SOP\n",
            "132  3.5\n",
            "309  3.5\n",
            "341  3.5\n",
            "196  3.0\n",
            "246  3.0\n",
            "    SOP\n",
            "9   3.5\n",
            "25  4.5\n",
            "28  2.0\n",
            "31  4.0\n",
            "32  3.0\n"
          ],
          "name": "stdout"
        }
      ]
    },
    {
      "cell_type": "code",
      "metadata": {
        "id": "k08jttw6uwMn"
      },
      "source": [
        "model = tf.keras.Sequential([\n",
        "                             tf.keras.layers.Dense(1)\n",
        "\n",
        "])"
      ],
      "execution_count": 36,
      "outputs": []
    },
    {
      "cell_type": "code",
      "metadata": {
        "id": "QLcML7nZu4D_"
      },
      "source": [
        "model.compile(\n",
        "    loss = 'mean_absolute_error', \n",
        "    optimizer = tf.keras.optimizers.Adam(0.001), \n",
        "    metrics = ['mae', 'mse'] \n",
        ")"
      ],
      "execution_count": 38,
      "outputs": []
    },
    {
      "cell_type": "code",
      "metadata": {
        "colab": {
          "base_uri": "https://localhost:8080/"
        },
        "id": "3m_AoQa3u_iB",
        "outputId": "a9873017-2672-4c69-9e1f-90e68d214131"
      },
      "source": [
        "numEpochs = 500\n",
        "history = model.fit(x = trainFeatures, y = trainLabels, validation_data = (testFeatures, testLabels), epochs = numEpochs)"
      ],
      "execution_count": 39,
      "outputs": [
        {
          "output_type": "stream",
          "text": [
            "Epoch 1/500\n",
            "10/10 [==============================] - 1s 23ms/step - loss: 9.9956 - mae: 9.9956 - mse: 100.7747 - val_loss: 10.0892 - val_mae: 10.0892 - val_mse: 102.7858\n",
            "Epoch 2/500\n",
            "10/10 [==============================] - 0s 4ms/step - loss: 9.9522 - mae: 9.9522 - mse: 99.8929 - val_loss: 10.0442 - val_mae: 10.0442 - val_mse: 101.8615\n",
            "Epoch 3/500\n",
            "10/10 [==============================] - 0s 4ms/step - loss: 9.9085 - mae: 9.9085 - mse: 99.0097 - val_loss: 9.9992 - val_mae: 9.9992 - val_mse: 100.9422\n",
            "Epoch 4/500\n",
            "10/10 [==============================] - 0s 4ms/step - loss: 9.8648 - mae: 9.8648 - mse: 98.1275 - val_loss: 9.9543 - val_mae: 9.9543 - val_mse: 100.0287\n",
            "Epoch 5/500\n",
            "10/10 [==============================] - 0s 4ms/step - loss: 9.8212 - mae: 9.8212 - mse: 97.2527 - val_loss: 9.9094 - val_mae: 9.9094 - val_mse: 99.1180\n",
            "Epoch 6/500\n",
            "10/10 [==============================] - 0s 4ms/step - loss: 9.7776 - mae: 9.7776 - mse: 96.3838 - val_loss: 9.8643 - val_mae: 9.8643 - val_mse: 98.2098\n",
            "Epoch 7/500\n",
            "10/10 [==============================] - 0s 4ms/step - loss: 9.7336 - mae: 9.7336 - mse: 95.5065 - val_loss: 9.8196 - val_mae: 9.8196 - val_mse: 97.3116\n",
            "Epoch 8/500\n",
            "10/10 [==============================] - 0s 6ms/step - loss: 9.6903 - mae: 9.6903 - mse: 94.6521 - val_loss: 9.7744 - val_mae: 9.7744 - val_mse: 96.4099\n",
            "Epoch 9/500\n",
            "10/10 [==============================] - 0s 4ms/step - loss: 9.6465 - mae: 9.6465 - mse: 93.7895 - val_loss: 9.7294 - val_mae: 9.7294 - val_mse: 95.5151\n",
            "Epoch 10/500\n",
            "10/10 [==============================] - 0s 4ms/step - loss: 9.6027 - mae: 9.6027 - mse: 92.9319 - val_loss: 9.6844 - val_mae: 9.6844 - val_mse: 94.6254\n",
            "Epoch 11/500\n",
            "10/10 [==============================] - 0s 4ms/step - loss: 9.5590 - mae: 9.5590 - mse: 92.0807 - val_loss: 9.6394 - val_mae: 9.6394 - val_mse: 93.7398\n",
            "Epoch 12/500\n",
            "10/10 [==============================] - 0s 4ms/step - loss: 9.5154 - mae: 9.5154 - mse: 91.2325 - val_loss: 9.5944 - val_mae: 9.5944 - val_mse: 92.8582\n",
            "Epoch 13/500\n",
            "10/10 [==============================] - 0s 7ms/step - loss: 9.4717 - mae: 9.4717 - mse: 90.3896 - val_loss: 9.5494 - val_mae: 9.5494 - val_mse: 91.9804\n",
            "Epoch 14/500\n",
            "10/10 [==============================] - 0s 4ms/step - loss: 9.4279 - mae: 9.4279 - mse: 89.5472 - val_loss: 9.5044 - val_mae: 9.5044 - val_mse: 91.1081\n",
            "Epoch 15/500\n",
            "10/10 [==============================] - 0s 4ms/step - loss: 9.3845 - mae: 9.3845 - mse: 88.7193 - val_loss: 9.4592 - val_mae: 9.4592 - val_mse: 90.2351\n",
            "Epoch 16/500\n",
            "10/10 [==============================] - 0s 4ms/step - loss: 9.3406 - mae: 9.3406 - mse: 87.8840 - val_loss: 9.4142 - val_mae: 9.4142 - val_mse: 89.3693\n",
            "Epoch 17/500\n",
            "10/10 [==============================] - 0s 4ms/step - loss: 9.2967 - mae: 9.2967 - mse: 87.0475 - val_loss: 9.3694 - val_mae: 9.3694 - val_mse: 88.5129\n",
            "Epoch 18/500\n",
            "10/10 [==============================] - 0s 5ms/step - loss: 9.2531 - mae: 9.2531 - mse: 86.2272 - val_loss: 9.3244 - val_mae: 9.3244 - val_mse: 87.6570\n",
            "Epoch 19/500\n",
            "10/10 [==============================] - 0s 5ms/step - loss: 9.2097 - mae: 9.2097 - mse: 85.4130 - val_loss: 9.2791 - val_mae: 9.2791 - val_mse: 86.8014\n",
            "Epoch 20/500\n",
            "10/10 [==============================] - 0s 4ms/step - loss: 9.1657 - mae: 9.1657 - mse: 84.5915 - val_loss: 9.2342 - val_mae: 9.2342 - val_mse: 85.9552\n",
            "Epoch 21/500\n",
            "10/10 [==============================] - 0s 4ms/step - loss: 9.1220 - mae: 9.1220 - mse: 83.7789 - val_loss: 9.1893 - val_mae: 9.1893 - val_mse: 85.1133\n",
            "Epoch 22/500\n",
            "10/10 [==============================] - 0s 4ms/step - loss: 9.0785 - mae: 9.0785 - mse: 82.9761 - val_loss: 9.1441 - val_mae: 9.1441 - val_mse: 84.2708\n",
            "Epoch 23/500\n",
            "10/10 [==============================] - 0s 4ms/step - loss: 9.0347 - mae: 9.0347 - mse: 82.1699 - val_loss: 9.0990 - val_mae: 9.0990 - val_mse: 83.4357\n",
            "Epoch 24/500\n",
            "10/10 [==============================] - 0s 4ms/step - loss: 8.9910 - mae: 8.9910 - mse: 81.3688 - val_loss: 9.0540 - val_mae: 9.0540 - val_mse: 82.6053\n",
            "Epoch 25/500\n",
            "10/10 [==============================] - 0s 4ms/step - loss: 8.9474 - mae: 8.9474 - mse: 80.5744 - val_loss: 9.0089 - val_mae: 9.0089 - val_mse: 81.7779\n",
            "Epoch 26/500\n",
            "10/10 [==============================] - 0s 4ms/step - loss: 8.9037 - mae: 8.9037 - mse: 79.7859 - val_loss: 8.9638 - val_mae: 8.9638 - val_mse: 80.9536\n",
            "Epoch 27/500\n",
            "10/10 [==============================] - 0s 4ms/step - loss: 8.8598 - mae: 8.8598 - mse: 78.9912 - val_loss: 8.9190 - val_mae: 8.9190 - val_mse: 80.1390\n",
            "Epoch 28/500\n",
            "10/10 [==============================] - 0s 4ms/step - loss: 8.8162 - mae: 8.8162 - mse: 78.2107 - val_loss: 8.8739 - val_mae: 8.8739 - val_mse: 79.3253\n",
            "Epoch 29/500\n",
            "10/10 [==============================] - 0s 4ms/step - loss: 8.7725 - mae: 8.7725 - mse: 77.4297 - val_loss: 8.8289 - val_mae: 8.8289 - val_mse: 78.5167\n",
            "Epoch 30/500\n",
            "10/10 [==============================] - 0s 6ms/step - loss: 8.7289 - mae: 8.7289 - mse: 76.6558 - val_loss: 8.7839 - val_mae: 8.7839 - val_mse: 77.7112\n",
            "Epoch 31/500\n",
            "10/10 [==============================] - 0s 4ms/step - loss: 8.6852 - mae: 8.6852 - mse: 75.8849 - val_loss: 8.7388 - val_mae: 8.7388 - val_mse: 76.9094\n",
            "Epoch 32/500\n",
            "10/10 [==============================] - 0s 5ms/step - loss: 8.6414 - mae: 8.6414 - mse: 75.1158 - val_loss: 8.6938 - val_mae: 8.6938 - val_mse: 76.1142\n",
            "Epoch 33/500\n",
            "10/10 [==============================] - 0s 4ms/step - loss: 8.5977 - mae: 8.5977 - mse: 74.3512 - val_loss: 8.6488 - val_mae: 8.6488 - val_mse: 75.3225\n",
            "Epoch 34/500\n",
            "10/10 [==============================] - 0s 3ms/step - loss: 8.5542 - mae: 8.5542 - mse: 73.5937 - val_loss: 8.6037 - val_mae: 8.6037 - val_mse: 74.5330\n",
            "Epoch 35/500\n",
            "10/10 [==============================] - 0s 4ms/step - loss: 8.5103 - mae: 8.5103 - mse: 72.8350 - val_loss: 8.5588 - val_mae: 8.5588 - val_mse: 73.7516\n",
            "Epoch 36/500\n",
            "10/10 [==============================] - 0s 4ms/step - loss: 8.4667 - mae: 8.4667 - mse: 72.0848 - val_loss: 8.5138 - val_mae: 8.5138 - val_mse: 72.9724\n",
            "Epoch 37/500\n",
            "10/10 [==============================] - 0s 5ms/step - loss: 8.4231 - mae: 8.4231 - mse: 71.3395 - val_loss: 8.4687 - val_mae: 8.4687 - val_mse: 72.1962\n",
            "Epoch 38/500\n",
            "10/10 [==============================] - 0s 4ms/step - loss: 8.3792 - mae: 8.3792 - mse: 70.5912 - val_loss: 8.4238 - val_mae: 8.4238 - val_mse: 71.4282\n",
            "Epoch 39/500\n",
            "10/10 [==============================] - 0s 4ms/step - loss: 8.3357 - mae: 8.3357 - mse: 69.8546 - val_loss: 8.3787 - val_mae: 8.3787 - val_mse: 70.6607\n",
            "Epoch 40/500\n",
            "10/10 [==============================] - 0s 4ms/step - loss: 8.2919 - mae: 8.2919 - mse: 69.1177 - val_loss: 8.3337 - val_mae: 8.3337 - val_mse: 69.8984\n",
            "Epoch 41/500\n",
            "10/10 [==============================] - 0s 6ms/step - loss: 8.2484 - mae: 8.2484 - mse: 68.3899 - val_loss: 8.2885 - val_mae: 8.2885 - val_mse: 69.1378\n",
            "Epoch 42/500\n",
            "10/10 [==============================] - 0s 4ms/step - loss: 8.2045 - mae: 8.2045 - mse: 67.6587 - val_loss: 8.2436 - val_mae: 8.2436 - val_mse: 68.3857\n",
            "Epoch 43/500\n",
            "10/10 [==============================] - 0s 5ms/step - loss: 8.1608 - mae: 8.1608 - mse: 66.9335 - val_loss: 8.1987 - val_mae: 8.1987 - val_mse: 67.6382\n",
            "Epoch 44/500\n",
            "10/10 [==============================] - 0s 4ms/step - loss: 8.1172 - mae: 8.1172 - mse: 66.2164 - val_loss: 8.1536 - val_mae: 8.1536 - val_mse: 66.8920\n",
            "Epoch 45/500\n",
            "10/10 [==============================] - 0s 4ms/step - loss: 8.0734 - mae: 8.0734 - mse: 65.5004 - val_loss: 8.1086 - val_mae: 8.1086 - val_mse: 66.1516\n",
            "Epoch 46/500\n",
            "10/10 [==============================] - 0s 4ms/step - loss: 8.0296 - mae: 8.0296 - mse: 64.7839 - val_loss: 8.0637 - val_mae: 8.0637 - val_mse: 65.4182\n",
            "Epoch 47/500\n",
            "10/10 [==============================] - 0s 3ms/step - loss: 7.9862 - mae: 7.9862 - mse: 64.0829 - val_loss: 8.0186 - val_mae: 8.0186 - val_mse: 64.6847\n",
            "Epoch 48/500\n",
            "10/10 [==============================] - 0s 3ms/step - loss: 7.9426 - mae: 7.9426 - mse: 63.3815 - val_loss: 7.9734 - val_mae: 7.9734 - val_mse: 63.9539\n",
            "Epoch 49/500\n",
            "10/10 [==============================] - 0s 4ms/step - loss: 7.8987 - mae: 7.8987 - mse: 62.6782 - val_loss: 7.9284 - val_mae: 7.9284 - val_mse: 63.2308\n",
            "Epoch 50/500\n",
            "10/10 [==============================] - 0s 5ms/step - loss: 7.8549 - mae: 7.8549 - mse: 61.9803 - val_loss: 7.8835 - val_mae: 7.8835 - val_mse: 62.5132\n",
            "Epoch 51/500\n",
            "10/10 [==============================] - 0s 5ms/step - loss: 7.8113 - mae: 7.8113 - mse: 61.2910 - val_loss: 7.8385 - val_mae: 7.8385 - val_mse: 61.7982\n",
            "Epoch 52/500\n",
            "10/10 [==============================] - 0s 4ms/step - loss: 7.7675 - mae: 7.7675 - mse: 60.6025 - val_loss: 7.7936 - val_mae: 7.7936 - val_mse: 61.0889\n",
            "Epoch 53/500\n",
            "10/10 [==============================] - 0s 4ms/step - loss: 7.7241 - mae: 7.7241 - mse: 59.9232 - val_loss: 7.7484 - val_mae: 7.7484 - val_mse: 60.3795\n",
            "Epoch 54/500\n",
            "10/10 [==============================] - 0s 4ms/step - loss: 7.6802 - mae: 7.6802 - mse: 59.2397 - val_loss: 7.7034 - val_mae: 7.7034 - val_mse: 59.6783\n",
            "Epoch 55/500\n",
            "10/10 [==============================] - 0s 4ms/step - loss: 7.6363 - mae: 7.6363 - mse: 58.5602 - val_loss: 7.6586 - val_mae: 7.6586 - val_mse: 58.9837\n",
            "Epoch 56/500\n",
            "10/10 [==============================] - 0s 4ms/step - loss: 7.5929 - mae: 7.5929 - mse: 57.8956 - val_loss: 7.6135 - val_mae: 7.6135 - val_mse: 58.2891\n",
            "Epoch 57/500\n",
            "10/10 [==============================] - 0s 5ms/step - loss: 7.5491 - mae: 7.5491 - mse: 57.2255 - val_loss: 7.5685 - val_mae: 7.5685 - val_mse: 57.6000\n",
            "Epoch 58/500\n",
            "10/10 [==============================] - 0s 5ms/step - loss: 7.5056 - mae: 7.5056 - mse: 56.5658 - val_loss: 7.5233 - val_mae: 7.5233 - val_mse: 56.9127\n",
            "Epoch 59/500\n",
            "10/10 [==============================] - 0s 5ms/step - loss: 7.4617 - mae: 7.4617 - mse: 55.9034 - val_loss: 7.4783 - val_mae: 7.4783 - val_mse: 56.2323\n",
            "Epoch 60/500\n",
            "10/10 [==============================] - 0s 4ms/step - loss: 7.4182 - mae: 7.4182 - mse: 55.2515 - val_loss: 7.4332 - val_mae: 7.4332 - val_mse: 55.5541\n",
            "Epoch 61/500\n",
            "10/10 [==============================] - 0s 4ms/step - loss: 7.3741 - mae: 7.3741 - mse: 54.5919 - val_loss: 7.3884 - val_mae: 7.3884 - val_mse: 54.8859\n",
            "Epoch 62/500\n",
            "10/10 [==============================] - 0s 4ms/step - loss: 7.3307 - mae: 7.3307 - mse: 53.9494 - val_loss: 7.3434 - val_mae: 7.3434 - val_mse: 54.2177\n",
            "Epoch 63/500\n",
            "10/10 [==============================] - 0s 4ms/step - loss: 7.2870 - mae: 7.2870 - mse: 53.3080 - val_loss: 7.2983 - val_mae: 7.2983 - val_mse: 53.5528\n",
            "Epoch 64/500\n",
            "10/10 [==============================] - 0s 4ms/step - loss: 7.2435 - mae: 7.2435 - mse: 52.6698 - val_loss: 7.2530 - val_mae: 7.2530 - val_mse: 52.8903\n",
            "Epoch 65/500\n",
            "10/10 [==============================] - 0s 4ms/step - loss: 7.1996 - mae: 7.1996 - mse: 52.0308 - val_loss: 7.2080 - val_mae: 7.2080 - val_mse: 52.2356\n",
            "Epoch 66/500\n",
            "10/10 [==============================] - 0s 3ms/step - loss: 7.1557 - mae: 7.1557 - mse: 51.3969 - val_loss: 7.1632 - val_mae: 7.1632 - val_mse: 51.5877\n",
            "Epoch 67/500\n",
            "10/10 [==============================] - 0s 4ms/step - loss: 7.1124 - mae: 7.1124 - mse: 50.7761 - val_loss: 7.1180 - val_mae: 7.1180 - val_mse: 50.9388\n",
            "Epoch 68/500\n",
            "10/10 [==============================] - 0s 4ms/step - loss: 7.0685 - mae: 7.0685 - mse: 50.1504 - val_loss: 7.0730 - val_mae: 7.0730 - val_mse: 50.2966\n",
            "Epoch 69/500\n",
            "10/10 [==============================] - 0s 4ms/step - loss: 7.0249 - mae: 7.0249 - mse: 49.5319 - val_loss: 7.0279 - val_mae: 7.0279 - val_mse: 49.6577\n",
            "Epoch 70/500\n",
            "10/10 [==============================] - 0s 5ms/step - loss: 6.9810 - mae: 6.9810 - mse: 48.9136 - val_loss: 6.9830 - val_mae: 6.9830 - val_mse: 49.0262\n",
            "Epoch 71/500\n",
            "10/10 [==============================] - 0s 4ms/step - loss: 6.9374 - mae: 6.9374 - mse: 48.3031 - val_loss: 6.9380 - val_mae: 6.9380 - val_mse: 48.3968\n",
            "Epoch 72/500\n",
            "10/10 [==============================] - 0s 4ms/step - loss: 6.8937 - mae: 6.8937 - mse: 47.6960 - val_loss: 6.8930 - val_mae: 6.8930 - val_mse: 47.7727\n",
            "Epoch 73/500\n",
            "10/10 [==============================] - 0s 4ms/step - loss: 6.8500 - mae: 6.8500 - mse: 47.0912 - val_loss: 6.8481 - val_mae: 6.8481 - val_mse: 47.1527\n",
            "Epoch 74/500\n",
            "10/10 [==============================] - 0s 4ms/step - loss: 6.8063 - mae: 6.8063 - mse: 46.4936 - val_loss: 6.8032 - val_mae: 6.8032 - val_mse: 46.5374\n",
            "Epoch 75/500\n",
            "10/10 [==============================] - 0s 4ms/step - loss: 6.7626 - mae: 6.7626 - mse: 45.8976 - val_loss: 6.7582 - val_mae: 6.7582 - val_mse: 45.9261\n",
            "Epoch 76/500\n",
            "10/10 [==============================] - 0s 4ms/step - loss: 6.7191 - mae: 6.7191 - mse: 45.3101 - val_loss: 6.7131 - val_mae: 6.7131 - val_mse: 45.3167\n",
            "Epoch 77/500\n",
            "10/10 [==============================] - 0s 5ms/step - loss: 6.6752 - mae: 6.6752 - mse: 44.7208 - val_loss: 6.6681 - val_mae: 6.6681 - val_mse: 44.7136\n",
            "Epoch 78/500\n",
            "10/10 [==============================] - 0s 4ms/step - loss: 6.6319 - mae: 6.6319 - mse: 44.1420 - val_loss: 6.6227 - val_mae: 6.6227 - val_mse: 44.1098\n",
            "Epoch 79/500\n",
            "10/10 [==============================] - 0s 4ms/step - loss: 6.5878 - mae: 6.5878 - mse: 43.5583 - val_loss: 6.5778 - val_mae: 6.5778 - val_mse: 43.5154\n",
            "Epoch 80/500\n",
            "10/10 [==============================] - 0s 4ms/step - loss: 6.5441 - mae: 6.5441 - mse: 42.9818 - val_loss: 6.5328 - val_mae: 6.5328 - val_mse: 42.9260\n",
            "Epoch 81/500\n",
            "10/10 [==============================] - 0s 4ms/step - loss: 6.5003 - mae: 6.5003 - mse: 42.4087 - val_loss: 6.4880 - val_mae: 6.4880 - val_mse: 42.3419\n",
            "Epoch 82/500\n",
            "10/10 [==============================] - 0s 4ms/step - loss: 6.4567 - mae: 6.4567 - mse: 41.8434 - val_loss: 6.4431 - val_mae: 6.4431 - val_mse: 41.7606\n",
            "Epoch 83/500\n",
            "10/10 [==============================] - 0s 4ms/step - loss: 6.4134 - mae: 6.4134 - mse: 41.2851 - val_loss: 6.3978 - val_mae: 6.3978 - val_mse: 41.1797\n",
            "Epoch 84/500\n",
            "10/10 [==============================] - 0s 4ms/step - loss: 6.3696 - mae: 6.3696 - mse: 40.7248 - val_loss: 6.3527 - val_mae: 6.3527 - val_mse: 40.6046\n",
            "Epoch 85/500\n",
            "10/10 [==============================] - 0s 4ms/step - loss: 6.3256 - mae: 6.3256 - mse: 40.1665 - val_loss: 6.3078 - val_mae: 6.3078 - val_mse: 40.0369\n",
            "Epoch 86/500\n",
            "10/10 [==============================] - 0s 4ms/step - loss: 6.2819 - mae: 6.2819 - mse: 39.6145 - val_loss: 6.2629 - val_mae: 6.2629 - val_mse: 39.4735\n",
            "Epoch 87/500\n",
            "10/10 [==============================] - 0s 4ms/step - loss: 6.2384 - mae: 6.2384 - mse: 39.0707 - val_loss: 6.2178 - val_mae: 6.2178 - val_mse: 38.9120\n",
            "Epoch 88/500\n",
            "10/10 [==============================] - 0s 4ms/step - loss: 6.1948 - mae: 6.1948 - mse: 38.5283 - val_loss: 6.1727 - val_mae: 6.1727 - val_mse: 38.3543\n",
            "Epoch 89/500\n",
            "10/10 [==============================] - 0s 5ms/step - loss: 6.1510 - mae: 6.1510 - mse: 37.9892 - val_loss: 6.1276 - val_mae: 6.1276 - val_mse: 37.8014\n",
            "Epoch 90/500\n",
            "10/10 [==============================] - 0s 4ms/step - loss: 6.1074 - mae: 6.1074 - mse: 37.4520 - val_loss: 6.0826 - val_mae: 6.0826 - val_mse: 37.2528\n",
            "Epoch 91/500\n",
            "10/10 [==============================] - 0s 4ms/step - loss: 6.0635 - mae: 6.0635 - mse: 36.9220 - val_loss: 6.0377 - val_mae: 6.0377 - val_mse: 36.7106\n",
            "Epoch 92/500\n",
            "10/10 [==============================] - 0s 4ms/step - loss: 6.0197 - mae: 6.0197 - mse: 36.3907 - val_loss: 5.9929 - val_mae: 5.9929 - val_mse: 36.1742\n",
            "Epoch 93/500\n",
            "10/10 [==============================] - 0s 5ms/step - loss: 5.9765 - mae: 5.9765 - mse: 35.8749 - val_loss: 5.9476 - val_mae: 5.9476 - val_mse: 35.6354\n",
            "Epoch 94/500\n",
            "10/10 [==============================] - 0s 4ms/step - loss: 5.9323 - mae: 5.9323 - mse: 35.3507 - val_loss: 5.9027 - val_mae: 5.9027 - val_mse: 35.1069\n",
            "Epoch 95/500\n",
            "10/10 [==============================] - 0s 4ms/step - loss: 5.8888 - mae: 5.8888 - mse: 34.8376 - val_loss: 5.8578 - val_mae: 5.8578 - val_mse: 34.5809\n",
            "Epoch 96/500\n",
            "10/10 [==============================] - 0s 4ms/step - loss: 5.8450 - mae: 5.8450 - mse: 34.3255 - val_loss: 5.8129 - val_mae: 5.8129 - val_mse: 34.0600\n",
            "Epoch 97/500\n",
            "10/10 [==============================] - 0s 5ms/step - loss: 5.8017 - mae: 5.8017 - mse: 33.8229 - val_loss: 5.7676 - val_mae: 5.7676 - val_mse: 33.5391\n",
            "Epoch 98/500\n",
            "10/10 [==============================] - 0s 5ms/step - loss: 5.7577 - mae: 5.7577 - mse: 33.3164 - val_loss: 5.7227 - val_mae: 5.7227 - val_mse: 33.0265\n",
            "Epoch 99/500\n",
            "10/10 [==============================] - 0s 4ms/step - loss: 5.7141 - mae: 5.7141 - mse: 32.8197 - val_loss: 5.6776 - val_mae: 5.6776 - val_mse: 32.5166\n",
            "Epoch 100/500\n",
            "10/10 [==============================] - 0s 4ms/step - loss: 5.6704 - mae: 5.6704 - mse: 32.3235 - val_loss: 5.6326 - val_mae: 5.6326 - val_mse: 32.0113\n",
            "Epoch 101/500\n",
            "10/10 [==============================] - 0s 4ms/step - loss: 5.6268 - mae: 5.6268 - mse: 31.8337 - val_loss: 5.5874 - val_mae: 5.5874 - val_mse: 31.5089\n",
            "Epoch 102/500\n",
            "10/10 [==============================] - 0s 5ms/step - loss: 5.5830 - mae: 5.5830 - mse: 31.3446 - val_loss: 5.5424 - val_mae: 5.5424 - val_mse: 31.0128\n",
            "Epoch 103/500\n",
            "10/10 [==============================] - 0s 5ms/step - loss: 5.5392 - mae: 5.5392 - mse: 30.8623 - val_loss: 5.4975 - val_mae: 5.4975 - val_mse: 30.5212\n",
            "Epoch 104/500\n",
            "10/10 [==============================] - 0s 4ms/step - loss: 5.4956 - mae: 5.4956 - mse: 30.3833 - val_loss: 5.4525 - val_mae: 5.4525 - val_mse: 30.0338\n",
            "Epoch 105/500\n",
            "10/10 [==============================] - 0s 6ms/step - loss: 5.4520 - mae: 5.4520 - mse: 29.9101 - val_loss: 5.4074 - val_mae: 5.4074 - val_mse: 29.5488\n",
            "Epoch 106/500\n",
            "10/10 [==============================] - 0s 4ms/step - loss: 5.4082 - mae: 5.4082 - mse: 29.4381 - val_loss: 5.3624 - val_mae: 5.3624 - val_mse: 29.0701\n",
            "Epoch 107/500\n",
            "10/10 [==============================] - 0s 4ms/step - loss: 5.3644 - mae: 5.3644 - mse: 28.9700 - val_loss: 5.3175 - val_mae: 5.3175 - val_mse: 28.5963\n",
            "Epoch 108/500\n",
            "10/10 [==============================] - 0s 4ms/step - loss: 5.3207 - mae: 5.3207 - mse: 28.5083 - val_loss: 5.2726 - val_mae: 5.2726 - val_mse: 28.1265\n",
            "Epoch 109/500\n",
            "10/10 [==============================] - 0s 4ms/step - loss: 5.2772 - mae: 5.2772 - mse: 28.0517 - val_loss: 5.2275 - val_mae: 5.2275 - val_mse: 27.6594\n",
            "Epoch 110/500\n",
            "10/10 [==============================] - 0s 4ms/step - loss: 5.2335 - mae: 5.2335 - mse: 27.5957 - val_loss: 5.1824 - val_mae: 5.1824 - val_mse: 27.1963\n",
            "Epoch 111/500\n",
            "10/10 [==============================] - 0s 4ms/step - loss: 5.1899 - mae: 5.1899 - mse: 27.1466 - val_loss: 5.1373 - val_mae: 5.1373 - val_mse: 26.7370\n",
            "Epoch 112/500\n",
            "10/10 [==============================] - 0s 4ms/step - loss: 5.1461 - mae: 5.1461 - mse: 26.6984 - val_loss: 5.0922 - val_mae: 5.0922 - val_mse: 26.2828\n",
            "Epoch 113/500\n",
            "10/10 [==============================] - 0s 4ms/step - loss: 5.1024 - mae: 5.1024 - mse: 26.2553 - val_loss: 5.0472 - val_mae: 5.0472 - val_mse: 25.8333\n",
            "Epoch 114/500\n",
            "10/10 [==============================] - 0s 5ms/step - loss: 5.0587 - mae: 5.0587 - mse: 25.8166 - val_loss: 5.0022 - val_mae: 5.0022 - val_mse: 25.3883\n",
            "Epoch 115/500\n",
            "10/10 [==============================] - 0s 4ms/step - loss: 5.0150 - mae: 5.0150 - mse: 25.3816 - val_loss: 4.9572 - val_mae: 4.9572 - val_mse: 24.9476\n",
            "Epoch 116/500\n",
            "10/10 [==============================] - 0s 4ms/step - loss: 4.9710 - mae: 4.9710 - mse: 24.9490 - val_loss: 4.9125 - val_mae: 4.9125 - val_mse: 24.5137\n",
            "Epoch 117/500\n",
            "10/10 [==============================] - 0s 5ms/step - loss: 4.9279 - mae: 4.9279 - mse: 24.5264 - val_loss: 4.8672 - val_mae: 4.8672 - val_mse: 24.0786\n",
            "Epoch 118/500\n",
            "10/10 [==============================] - 0s 4ms/step - loss: 4.8838 - mae: 4.8838 - mse: 24.1015 - val_loss: 4.8223 - val_mae: 4.8223 - val_mse: 23.6522\n",
            "Epoch 119/500\n",
            "10/10 [==============================] - 0s 4ms/step - loss: 4.8402 - mae: 4.8402 - mse: 23.6829 - val_loss: 4.7773 - val_mae: 4.7773 - val_mse: 23.2284\n",
            "Epoch 120/500\n",
            "10/10 [==============================] - 0s 4ms/step - loss: 4.7967 - mae: 4.7967 - mse: 23.2700 - val_loss: 4.7321 - val_mae: 4.7321 - val_mse: 22.8077\n",
            "Epoch 121/500\n",
            "10/10 [==============================] - 0s 5ms/step - loss: 4.7529 - mae: 4.7529 - mse: 22.8577 - val_loss: 4.6871 - val_mae: 4.6871 - val_mse: 22.3924\n",
            "Epoch 122/500\n",
            "10/10 [==============================] - 0s 4ms/step - loss: 4.7092 - mae: 4.7092 - mse: 22.4507 - val_loss: 4.6421 - val_mae: 4.6421 - val_mse: 21.9814\n",
            "Epoch 123/500\n",
            "10/10 [==============================] - 0s 4ms/step - loss: 4.6654 - mae: 4.6654 - mse: 22.0483 - val_loss: 4.5971 - val_mae: 4.5971 - val_mse: 21.5752\n",
            "Epoch 124/500\n",
            "10/10 [==============================] - 0s 4ms/step - loss: 4.6218 - mae: 4.6218 - mse: 21.6507 - val_loss: 4.5520 - val_mae: 4.5520 - val_mse: 21.1722\n",
            "Epoch 125/500\n",
            "10/10 [==============================] - 0s 4ms/step - loss: 4.5781 - mae: 4.5781 - mse: 21.2537 - val_loss: 4.5070 - val_mae: 4.5070 - val_mse: 20.7744\n",
            "Epoch 126/500\n",
            "10/10 [==============================] - 0s 5ms/step - loss: 4.5342 - mae: 4.5342 - mse: 20.8629 - val_loss: 4.4622 - val_mae: 4.4622 - val_mse: 20.3825\n",
            "Epoch 127/500\n",
            "10/10 [==============================] - 0s 4ms/step - loss: 4.4907 - mae: 4.4907 - mse: 20.4782 - val_loss: 4.4172 - val_mae: 4.4172 - val_mse: 19.9930\n",
            "Epoch 128/500\n",
            "10/10 [==============================] - 0s 5ms/step - loss: 4.4471 - mae: 4.4471 - mse: 20.0954 - val_loss: 4.3721 - val_mae: 4.3721 - val_mse: 19.6071\n",
            "Epoch 129/500\n",
            "10/10 [==============================] - 0s 5ms/step - loss: 4.4034 - mae: 4.4034 - mse: 19.7175 - val_loss: 4.3270 - val_mae: 4.3270 - val_mse: 19.2251\n",
            "Epoch 130/500\n",
            "10/10 [==============================] - 0s 4ms/step - loss: 4.3596 - mae: 4.3596 - mse: 19.3428 - val_loss: 4.2820 - val_mae: 4.2820 - val_mse: 18.8489\n",
            "Epoch 131/500\n",
            "10/10 [==============================] - 0s 4ms/step - loss: 4.3159 - mae: 4.3159 - mse: 18.9709 - val_loss: 4.2370 - val_mae: 4.2370 - val_mse: 18.4767\n",
            "Epoch 132/500\n",
            "10/10 [==============================] - 0s 5ms/step - loss: 4.2723 - mae: 4.2723 - mse: 18.6061 - val_loss: 4.1919 - val_mae: 4.1919 - val_mse: 18.1081\n",
            "Epoch 133/500\n",
            "10/10 [==============================] - 0s 4ms/step - loss: 4.2285 - mae: 4.2285 - mse: 18.2442 - val_loss: 4.1470 - val_mae: 4.1470 - val_mse: 17.7446\n",
            "Epoch 134/500\n",
            "10/10 [==============================] - 0s 5ms/step - loss: 4.1850 - mae: 4.1850 - mse: 17.8856 - val_loss: 4.1018 - val_mae: 4.1018 - val_mse: 17.3841\n",
            "Epoch 135/500\n",
            "10/10 [==============================] - 0s 4ms/step - loss: 4.1410 - mae: 4.1410 - mse: 17.5299 - val_loss: 4.0570 - val_mae: 4.0570 - val_mse: 17.0302\n",
            "Epoch 136/500\n",
            "10/10 [==============================] - 0s 5ms/step - loss: 4.0975 - mae: 4.0975 - mse: 17.1800 - val_loss: 4.0119 - val_mae: 4.0119 - val_mse: 16.6791\n",
            "Epoch 137/500\n",
            "10/10 [==============================] - 0s 5ms/step - loss: 4.0537 - mae: 4.0537 - mse: 16.8336 - val_loss: 3.9670 - val_mae: 3.9670 - val_mse: 16.3330\n",
            "Epoch 138/500\n",
            "10/10 [==============================] - 0s 4ms/step - loss: 4.0101 - mae: 4.0101 - mse: 16.4911 - val_loss: 3.9220 - val_mae: 3.9220 - val_mse: 15.9907\n",
            "Epoch 139/500\n",
            "10/10 [==============================] - 0s 4ms/step - loss: 3.9664 - mae: 3.9664 - mse: 16.1524 - val_loss: 3.8769 - val_mae: 3.8769 - val_mse: 15.6520\n",
            "Epoch 140/500\n",
            "10/10 [==============================] - 0s 5ms/step - loss: 3.9229 - mae: 3.9229 - mse: 15.8184 - val_loss: 3.8317 - val_mae: 3.8317 - val_mse: 15.3169\n",
            "Epoch 141/500\n",
            "10/10 [==============================] - 0s 5ms/step - loss: 3.8788 - mae: 3.8788 - mse: 15.4878 - val_loss: 3.7869 - val_mae: 3.7869 - val_mse: 14.9888\n",
            "Epoch 142/500\n",
            "10/10 [==============================] - 0s 4ms/step - loss: 3.8353 - mae: 3.8353 - mse: 15.1616 - val_loss: 3.7419 - val_mae: 3.7419 - val_mse: 14.6636\n",
            "Epoch 143/500\n",
            "10/10 [==============================] - 0s 4ms/step - loss: 3.7916 - mae: 3.7916 - mse: 14.8407 - val_loss: 3.6968 - val_mae: 3.6968 - val_mse: 14.3423\n",
            "Epoch 144/500\n",
            "10/10 [==============================] - 0s 4ms/step - loss: 3.7479 - mae: 3.7479 - mse: 14.5216 - val_loss: 3.6518 - val_mae: 3.6518 - val_mse: 14.0256\n",
            "Epoch 145/500\n",
            "10/10 [==============================] - 0s 4ms/step - loss: 3.7043 - mae: 3.7043 - mse: 14.2066 - val_loss: 3.6067 - val_mae: 3.6067 - val_mse: 13.7129\n",
            "Epoch 146/500\n",
            "10/10 [==============================] - 0s 4ms/step - loss: 3.6605 - mae: 3.6605 - mse: 13.8958 - val_loss: 3.5617 - val_mae: 3.5617 - val_mse: 13.4047\n",
            "Epoch 147/500\n",
            "10/10 [==============================] - 0s 4ms/step - loss: 3.6168 - mae: 3.6168 - mse: 13.5892 - val_loss: 3.5167 - val_mae: 3.5167 - val_mse: 13.1008\n",
            "Epoch 148/500\n",
            "10/10 [==============================] - 0s 5ms/step - loss: 3.5730 - mae: 3.5730 - mse: 13.2877 - val_loss: 3.4718 - val_mae: 3.4718 - val_mse: 12.8020\n",
            "Epoch 149/500\n",
            "10/10 [==============================] - 0s 5ms/step - loss: 3.5294 - mae: 3.5294 - mse: 12.9898 - val_loss: 3.4268 - val_mae: 3.4268 - val_mse: 12.5067\n",
            "Epoch 150/500\n",
            "10/10 [==============================] - 0s 5ms/step - loss: 3.4859 - mae: 3.4859 - mse: 12.6960 - val_loss: 3.3816 - val_mae: 3.3816 - val_mse: 12.2148\n",
            "Epoch 151/500\n",
            "10/10 [==============================] - 0s 4ms/step - loss: 3.4419 - mae: 3.4419 - mse: 12.4049 - val_loss: 3.3367 - val_mae: 3.3367 - val_mse: 11.9290\n",
            "Epoch 152/500\n",
            "10/10 [==============================] - 0s 4ms/step - loss: 3.3985 - mae: 3.3985 - mse: 12.1174 - val_loss: 3.2916 - val_mae: 3.2916 - val_mse: 11.6458\n",
            "Epoch 153/500\n",
            "10/10 [==============================] - 0s 5ms/step - loss: 3.3547 - mae: 3.3547 - mse: 11.8368 - val_loss: 3.2465 - val_mae: 3.2465 - val_mse: 11.3674\n",
            "Epoch 154/500\n",
            "10/10 [==============================] - 0s 5ms/step - loss: 3.3111 - mae: 3.3111 - mse: 11.5590 - val_loss: 3.2014 - val_mae: 3.2014 - val_mse: 11.0930\n",
            "Epoch 155/500\n",
            "10/10 [==============================] - 0s 4ms/step - loss: 3.2672 - mae: 3.2672 - mse: 11.2832 - val_loss: 3.1565 - val_mae: 3.1565 - val_mse: 10.8239\n",
            "Epoch 156/500\n",
            "10/10 [==============================] - 0s 5ms/step - loss: 3.2236 - mae: 3.2236 - mse: 11.0132 - val_loss: 3.1115 - val_mae: 3.1115 - val_mse: 10.5588\n",
            "Epoch 157/500\n",
            "10/10 [==============================] - 0s 4ms/step - loss: 3.1799 - mae: 3.1799 - mse: 10.7483 - val_loss: 3.0665 - val_mae: 3.0665 - val_mse: 10.2979\n",
            "Epoch 158/500\n",
            "10/10 [==============================] - 0s 4ms/step - loss: 3.1362 - mae: 3.1362 - mse: 10.4846 - val_loss: 3.0215 - val_mae: 3.0215 - val_mse: 10.0412\n",
            "Epoch 159/500\n",
            "10/10 [==============================] - 0s 4ms/step - loss: 3.0926 - mae: 3.0926 - mse: 10.2263 - val_loss: 2.9763 - val_mae: 2.9763 - val_mse: 9.7880\n",
            "Epoch 160/500\n",
            "10/10 [==============================] - 0s 5ms/step - loss: 3.0486 - mae: 3.0486 - mse: 9.9738 - val_loss: 2.9315 - val_mae: 2.9315 - val_mse: 9.5409\n",
            "Epoch 161/500\n",
            "10/10 [==============================] - 0s 4ms/step - loss: 3.0053 - mae: 3.0053 - mse: 9.7229 - val_loss: 2.8864 - val_mae: 2.8864 - val_mse: 9.2963\n",
            "Epoch 162/500\n",
            "10/10 [==============================] - 0s 5ms/step - loss: 2.9614 - mae: 2.9614 - mse: 9.4756 - val_loss: 2.8414 - val_mae: 2.8414 - val_mse: 9.0570\n",
            "Epoch 163/500\n",
            "10/10 [==============================] - 0s 5ms/step - loss: 2.9176 - mae: 2.9176 - mse: 9.2365 - val_loss: 2.7966 - val_mae: 2.7966 - val_mse: 8.8224\n",
            "Epoch 164/500\n",
            "10/10 [==============================] - 0s 4ms/step - loss: 2.8742 - mae: 2.8742 - mse: 8.9975 - val_loss: 2.7527 - val_mae: 2.7527 - val_mse: 8.5905\n",
            "Epoch 165/500\n",
            "10/10 [==============================] - 0s 4ms/step - loss: 2.8302 - mae: 2.8302 - mse: 8.7626 - val_loss: 2.7093 - val_mae: 2.7093 - val_mse: 8.3644\n",
            "Epoch 166/500\n",
            "10/10 [==============================] - 0s 5ms/step - loss: 2.7867 - mae: 2.7867 - mse: 8.5334 - val_loss: 2.6657 - val_mae: 2.6657 - val_mse: 8.1416\n",
            "Epoch 167/500\n",
            "10/10 [==============================] - 0s 4ms/step - loss: 2.7430 - mae: 2.7430 - mse: 8.3064 - val_loss: 2.6221 - val_mae: 2.6221 - val_mse: 7.9230\n",
            "Epoch 168/500\n",
            "10/10 [==============================] - 0s 5ms/step - loss: 2.6993 - mae: 2.6993 - mse: 8.0841 - val_loss: 2.5785 - val_mae: 2.5785 - val_mse: 7.7089\n",
            "Epoch 169/500\n",
            "10/10 [==============================] - 0s 4ms/step - loss: 2.6557 - mae: 2.6557 - mse: 7.8657 - val_loss: 2.5349 - val_mae: 2.5349 - val_mse: 7.4988\n",
            "Epoch 170/500\n",
            "10/10 [==============================] - 0s 5ms/step - loss: 2.6119 - mae: 2.6119 - mse: 7.6516 - val_loss: 2.4914 - val_mae: 2.4914 - val_mse: 7.2935\n",
            "Epoch 171/500\n",
            "10/10 [==============================] - 0s 4ms/step - loss: 2.5680 - mae: 2.5680 - mse: 7.4418 - val_loss: 2.4481 - val_mae: 2.4481 - val_mse: 7.0932\n",
            "Epoch 172/500\n",
            "10/10 [==============================] - 0s 4ms/step - loss: 2.5243 - mae: 2.5243 - mse: 7.2383 - val_loss: 2.4047 - val_mae: 2.4047 - val_mse: 6.8970\n",
            "Epoch 173/500\n",
            "10/10 [==============================] - 0s 4ms/step - loss: 2.4811 - mae: 2.4811 - mse: 7.0340 - val_loss: 2.3609 - val_mae: 2.3609 - val_mse: 6.7033\n",
            "Epoch 174/500\n",
            "10/10 [==============================] - 0s 4ms/step - loss: 2.4369 - mae: 2.4369 - mse: 6.8365 - val_loss: 2.3175 - val_mae: 2.3175 - val_mse: 6.5158\n",
            "Epoch 175/500\n",
            "10/10 [==============================] - 0s 4ms/step - loss: 2.3938 - mae: 2.3938 - mse: 6.6409 - val_loss: 2.2736 - val_mae: 2.2736 - val_mse: 6.3302\n",
            "Epoch 176/500\n",
            "10/10 [==============================] - 0s 4ms/step - loss: 2.3495 - mae: 2.3495 - mse: 6.4520 - val_loss: 2.2303 - val_mae: 2.2303 - val_mse: 6.1515\n",
            "Epoch 177/500\n",
            "10/10 [==============================] - 0s 4ms/step - loss: 2.3059 - mae: 2.3059 - mse: 6.2681 - val_loss: 2.1870 - val_mae: 2.1870 - val_mse: 5.9767\n",
            "Epoch 178/500\n",
            "10/10 [==============================] - 0s 4ms/step - loss: 2.2627 - mae: 2.2627 - mse: 6.0842 - val_loss: 2.1437 - val_mae: 2.1437 - val_mse: 5.8064\n",
            "Epoch 179/500\n",
            "10/10 [==============================] - 0s 4ms/step - loss: 2.2200 - mae: 2.2200 - mse: 5.9065 - val_loss: 2.1002 - val_mae: 2.1002 - val_mse: 5.6397\n",
            "Epoch 180/500\n",
            "10/10 [==============================] - 0s 4ms/step - loss: 2.1767 - mae: 2.1767 - mse: 5.7334 - val_loss: 2.0576 - val_mae: 2.0576 - val_mse: 5.4789\n",
            "Epoch 181/500\n",
            "10/10 [==============================] - 0s 5ms/step - loss: 2.1345 - mae: 2.1345 - mse: 5.5670 - val_loss: 2.0161 - val_mae: 2.0161 - val_mse: 5.3225\n",
            "Epoch 182/500\n",
            "10/10 [==============================] - 0s 5ms/step - loss: 2.0923 - mae: 2.0923 - mse: 5.4025 - val_loss: 1.9747 - val_mae: 1.9747 - val_mse: 5.1704\n",
            "Epoch 183/500\n",
            "10/10 [==============================] - 0s 5ms/step - loss: 2.0500 - mae: 2.0500 - mse: 5.2451 - val_loss: 1.9341 - val_mae: 1.9341 - val_mse: 5.0251\n",
            "Epoch 184/500\n",
            "10/10 [==============================] - 0s 5ms/step - loss: 2.0085 - mae: 2.0085 - mse: 5.0923 - val_loss: 1.8947 - val_mae: 1.8947 - val_mse: 4.8837\n",
            "Epoch 185/500\n",
            "10/10 [==============================] - 0s 5ms/step - loss: 1.9676 - mae: 1.9676 - mse: 4.9414 - val_loss: 1.8547 - val_mae: 1.8547 - val_mse: 4.7443\n",
            "Epoch 186/500\n",
            "10/10 [==============================] - 0s 4ms/step - loss: 1.9255 - mae: 1.9255 - mse: 4.7948 - val_loss: 1.8152 - val_mae: 1.8152 - val_mse: 4.6108\n",
            "Epoch 187/500\n",
            "10/10 [==============================] - 0s 5ms/step - loss: 1.8845 - mae: 1.8845 - mse: 4.6515 - val_loss: 1.7777 - val_mae: 1.7777 - val_mse: 4.4799\n",
            "Epoch 188/500\n",
            "10/10 [==============================] - 0s 4ms/step - loss: 1.8439 - mae: 1.8439 - mse: 4.5122 - val_loss: 1.7414 - val_mae: 1.7414 - val_mse: 4.3560\n",
            "Epoch 189/500\n",
            "10/10 [==============================] - 0s 4ms/step - loss: 1.8052 - mae: 1.8052 - mse: 4.3808 - val_loss: 1.7081 - val_mae: 1.7081 - val_mse: 4.2392\n",
            "Epoch 190/500\n",
            "10/10 [==============================] - 0s 5ms/step - loss: 1.7691 - mae: 1.7691 - mse: 4.2546 - val_loss: 1.6763 - val_mae: 1.6763 - val_mse: 4.1272\n",
            "Epoch 191/500\n",
            "10/10 [==============================] - 0s 5ms/step - loss: 1.7334 - mae: 1.7334 - mse: 4.1359 - val_loss: 1.6467 - val_mae: 1.6467 - val_mse: 4.0222\n",
            "Epoch 192/500\n",
            "10/10 [==============================] - 0s 4ms/step - loss: 1.6991 - mae: 1.6991 - mse: 4.0223 - val_loss: 1.6182 - val_mae: 1.6182 - val_mse: 3.9213\n",
            "Epoch 193/500\n",
            "10/10 [==============================] - 0s 4ms/step - loss: 1.6660 - mae: 1.6660 - mse: 3.9124 - val_loss: 1.5900 - val_mae: 1.5900 - val_mse: 3.8252\n",
            "Epoch 194/500\n",
            "10/10 [==============================] - 0s 5ms/step - loss: 1.6350 - mae: 1.6350 - mse: 3.8085 - val_loss: 1.5630 - val_mae: 1.5630 - val_mse: 3.7352\n",
            "Epoch 195/500\n",
            "10/10 [==============================] - 0s 4ms/step - loss: 1.6058 - mae: 1.6058 - mse: 3.7117 - val_loss: 1.5389 - val_mae: 1.5389 - val_mse: 3.6516\n",
            "Epoch 196/500\n",
            "10/10 [==============================] - 0s 5ms/step - loss: 1.5790 - mae: 1.5790 - mse: 3.6192 - val_loss: 1.5157 - val_mae: 1.5157 - val_mse: 3.5728\n",
            "Epoch 197/500\n",
            "10/10 [==============================] - 0s 5ms/step - loss: 1.5538 - mae: 1.5538 - mse: 3.5317 - val_loss: 1.4935 - val_mae: 1.4935 - val_mse: 3.4998\n",
            "Epoch 198/500\n",
            "10/10 [==============================] - 0s 4ms/step - loss: 1.5302 - mae: 1.5302 - mse: 3.4501 - val_loss: 1.4723 - val_mae: 1.4723 - val_mse: 3.4314\n",
            "Epoch 199/500\n",
            "10/10 [==============================] - 0s 5ms/step - loss: 1.5076 - mae: 1.5076 - mse: 3.3737 - val_loss: 1.4531 - val_mae: 1.4531 - val_mse: 3.3662\n",
            "Epoch 200/500\n",
            "10/10 [==============================] - 0s 4ms/step - loss: 1.4863 - mae: 1.4863 - mse: 3.3008 - val_loss: 1.4346 - val_mae: 1.4346 - val_mse: 3.3044\n",
            "Epoch 201/500\n",
            "10/10 [==============================] - 0s 5ms/step - loss: 1.4656 - mae: 1.4656 - mse: 3.2298 - val_loss: 1.4183 - val_mae: 1.4183 - val_mse: 3.2457\n",
            "Epoch 202/500\n",
            "10/10 [==============================] - 0s 5ms/step - loss: 1.4454 - mae: 1.4454 - mse: 3.1631 - val_loss: 1.4033 - val_mae: 1.4033 - val_mse: 3.1914\n",
            "Epoch 203/500\n",
            "10/10 [==============================] - 0s 5ms/step - loss: 1.4276 - mae: 1.4276 - mse: 3.1004 - val_loss: 1.3889 - val_mae: 1.3889 - val_mse: 3.1387\n",
            "Epoch 204/500\n",
            "10/10 [==============================] - 0s 4ms/step - loss: 1.4101 - mae: 1.4101 - mse: 3.0402 - val_loss: 1.3757 - val_mae: 1.3757 - val_mse: 3.0900\n",
            "Epoch 205/500\n",
            "10/10 [==============================] - 0s 4ms/step - loss: 1.3929 - mae: 1.3929 - mse: 2.9840 - val_loss: 1.3646 - val_mae: 1.3646 - val_mse: 3.0466\n",
            "Epoch 206/500\n",
            "10/10 [==============================] - 0s 5ms/step - loss: 1.3778 - mae: 1.3778 - mse: 2.9332 - val_loss: 1.3533 - val_mae: 1.3533 - val_mse: 3.0034\n",
            "Epoch 207/500\n",
            "10/10 [==============================] - 0s 5ms/step - loss: 1.3638 - mae: 1.3638 - mse: 2.8817 - val_loss: 1.3424 - val_mae: 1.3424 - val_mse: 2.9630\n",
            "Epoch 208/500\n",
            "10/10 [==============================] - 0s 4ms/step - loss: 1.3511 - mae: 1.3511 - mse: 2.8341 - val_loss: 1.3324 - val_mae: 1.3324 - val_mse: 2.9274\n",
            "Epoch 209/500\n",
            "10/10 [==============================] - 0s 4ms/step - loss: 1.3400 - mae: 1.3400 - mse: 2.7936 - val_loss: 1.3238 - val_mae: 1.3238 - val_mse: 2.8941\n",
            "Epoch 210/500\n",
            "10/10 [==============================] - 0s 4ms/step - loss: 1.3293 - mae: 1.3293 - mse: 2.7523 - val_loss: 1.3159 - val_mae: 1.3159 - val_mse: 2.8637\n",
            "Epoch 211/500\n",
            "10/10 [==============================] - 0s 4ms/step - loss: 1.3192 - mae: 1.3192 - mse: 2.7151 - val_loss: 1.3082 - val_mae: 1.3082 - val_mse: 2.8347\n",
            "Epoch 212/500\n",
            "10/10 [==============================] - 0s 5ms/step - loss: 1.3097 - mae: 1.3097 - mse: 2.6795 - val_loss: 1.3005 - val_mae: 1.3005 - val_mse: 2.8068\n",
            "Epoch 213/500\n",
            "10/10 [==============================] - 0s 5ms/step - loss: 1.3004 - mae: 1.3004 - mse: 2.6444 - val_loss: 1.2929 - val_mae: 1.2929 - val_mse: 2.7802\n",
            "Epoch 214/500\n",
            "10/10 [==============================] - 0s 5ms/step - loss: 1.2914 - mae: 1.2914 - mse: 2.6106 - val_loss: 1.2856 - val_mae: 1.2856 - val_mse: 2.7554\n",
            "Epoch 215/500\n",
            "10/10 [==============================] - 0s 5ms/step - loss: 1.2830 - mae: 1.2830 - mse: 2.5801 - val_loss: 1.2786 - val_mae: 1.2786 - val_mse: 2.7329\n",
            "Epoch 216/500\n",
            "10/10 [==============================] - 0s 4ms/step - loss: 1.2756 - mae: 1.2756 - mse: 2.5501 - val_loss: 1.2715 - val_mae: 1.2715 - val_mse: 2.7104\n",
            "Epoch 217/500\n",
            "10/10 [==============================] - 0s 5ms/step - loss: 1.2679 - mae: 1.2679 - mse: 2.5218 - val_loss: 1.2648 - val_mae: 1.2648 - val_mse: 2.6898\n",
            "Epoch 218/500\n",
            "10/10 [==============================] - 0s 4ms/step - loss: 1.2611 - mae: 1.2611 - mse: 2.4957 - val_loss: 1.2591 - val_mae: 1.2591 - val_mse: 2.6701\n",
            "Epoch 219/500\n",
            "10/10 [==============================] - 0s 4ms/step - loss: 1.2541 - mae: 1.2541 - mse: 2.4693 - val_loss: 1.2544 - val_mae: 1.2544 - val_mse: 2.6527\n",
            "Epoch 220/500\n",
            "10/10 [==============================] - 0s 4ms/step - loss: 1.2482 - mae: 1.2482 - mse: 2.4459 - val_loss: 1.2495 - val_mae: 1.2495 - val_mse: 2.6351\n",
            "Epoch 221/500\n",
            "10/10 [==============================] - 0s 5ms/step - loss: 1.2422 - mae: 1.2422 - mse: 2.4225 - val_loss: 1.2451 - val_mae: 1.2451 - val_mse: 2.6188\n",
            "Epoch 222/500\n",
            "10/10 [==============================] - 0s 6ms/step - loss: 1.2366 - mae: 1.2366 - mse: 2.3999 - val_loss: 1.2415 - val_mae: 1.2415 - val_mse: 2.6035\n",
            "Epoch 223/500\n",
            "10/10 [==============================] - 0s 5ms/step - loss: 1.2309 - mae: 1.2309 - mse: 2.3797 - val_loss: 1.2383 - val_mae: 1.2383 - val_mse: 2.5897\n",
            "Epoch 224/500\n",
            "10/10 [==============================] - 0s 4ms/step - loss: 1.2258 - mae: 1.2258 - mse: 2.3598 - val_loss: 1.2352 - val_mae: 1.2352 - val_mse: 2.5759\n",
            "Epoch 225/500\n",
            "10/10 [==============================] - 0s 4ms/step - loss: 1.2204 - mae: 1.2204 - mse: 2.3407 - val_loss: 1.2328 - val_mae: 1.2328 - val_mse: 2.5632\n",
            "Epoch 226/500\n",
            "10/10 [==============================] - 0s 7ms/step - loss: 1.2158 - mae: 1.2158 - mse: 2.3220 - val_loss: 1.2311 - val_mae: 1.2311 - val_mse: 2.5507\n",
            "Epoch 227/500\n",
            "10/10 [==============================] - 0s 5ms/step - loss: 1.2111 - mae: 1.2111 - mse: 2.3050 - val_loss: 1.2299 - val_mae: 1.2299 - val_mse: 2.5390\n",
            "Epoch 228/500\n",
            "10/10 [==============================] - 0s 5ms/step - loss: 1.2069 - mae: 1.2069 - mse: 2.2872 - val_loss: 1.2287 - val_mae: 1.2287 - val_mse: 2.5278\n",
            "Epoch 229/500\n",
            "10/10 [==============================] - 0s 4ms/step - loss: 1.2023 - mae: 1.2023 - mse: 2.2714 - val_loss: 1.2276 - val_mae: 1.2276 - val_mse: 2.5182\n",
            "Epoch 230/500\n",
            "10/10 [==============================] - 0s 5ms/step - loss: 1.1985 - mae: 1.1985 - mse: 2.2559 - val_loss: 1.2266 - val_mae: 1.2266 - val_mse: 2.5089\n",
            "Epoch 231/500\n",
            "10/10 [==============================] - 0s 5ms/step - loss: 1.1947 - mae: 1.1947 - mse: 2.2422 - val_loss: 1.2259 - val_mae: 1.2259 - val_mse: 2.5000\n",
            "Epoch 232/500\n",
            "10/10 [==============================] - 0s 4ms/step - loss: 1.1912 - mae: 1.1912 - mse: 2.2283 - val_loss: 1.2255 - val_mae: 1.2255 - val_mse: 2.4917\n",
            "Epoch 233/500\n",
            "10/10 [==============================] - 0s 5ms/step - loss: 1.1876 - mae: 1.1876 - mse: 2.2148 - val_loss: 1.2252 - val_mae: 1.2252 - val_mse: 2.4841\n",
            "Epoch 234/500\n",
            "10/10 [==============================] - 0s 5ms/step - loss: 1.1845 - mae: 1.1845 - mse: 2.2026 - val_loss: 1.2248 - val_mae: 1.2248 - val_mse: 2.4763\n",
            "Epoch 235/500\n",
            "10/10 [==============================] - 0s 4ms/step - loss: 1.1808 - mae: 1.1808 - mse: 2.1899 - val_loss: 1.2245 - val_mae: 1.2245 - val_mse: 2.4693\n",
            "Epoch 236/500\n",
            "10/10 [==============================] - 0s 4ms/step - loss: 1.1777 - mae: 1.1777 - mse: 2.1786 - val_loss: 1.2241 - val_mae: 1.2241 - val_mse: 2.4624\n",
            "Epoch 237/500\n",
            "10/10 [==============================] - 0s 4ms/step - loss: 1.1743 - mae: 1.1743 - mse: 2.1663 - val_loss: 1.2237 - val_mae: 1.2237 - val_mse: 2.4560\n",
            "Epoch 238/500\n",
            "10/10 [==============================] - 0s 5ms/step - loss: 1.1711 - mae: 1.1711 - mse: 2.1554 - val_loss: 1.2236 - val_mae: 1.2236 - val_mse: 2.4500\n",
            "Epoch 239/500\n",
            "10/10 [==============================] - 0s 6ms/step - loss: 1.1681 - mae: 1.1681 - mse: 2.1448 - val_loss: 1.2236 - val_mae: 1.2236 - val_mse: 2.4446\n",
            "Epoch 240/500\n",
            "10/10 [==============================] - 0s 5ms/step - loss: 1.1657 - mae: 1.1657 - mse: 2.1353 - val_loss: 1.2235 - val_mae: 1.2235 - val_mse: 2.4392\n",
            "Epoch 241/500\n",
            "10/10 [==============================] - 0s 5ms/step - loss: 1.1630 - mae: 1.1630 - mse: 2.1257 - val_loss: 1.2234 - val_mae: 1.2234 - val_mse: 2.4346\n",
            "Epoch 242/500\n",
            "10/10 [==============================] - 0s 5ms/step - loss: 1.1607 - mae: 1.1607 - mse: 2.1171 - val_loss: 1.2234 - val_mae: 1.2234 - val_mse: 2.4306\n",
            "Epoch 243/500\n",
            "10/10 [==============================] - 0s 4ms/step - loss: 1.1589 - mae: 1.1589 - mse: 2.1087 - val_loss: 1.2236 - val_mae: 1.2236 - val_mse: 2.4264\n",
            "Epoch 244/500\n",
            "10/10 [==============================] - 0s 5ms/step - loss: 1.1568 - mae: 1.1568 - mse: 2.1010 - val_loss: 1.2237 - val_mae: 1.2237 - val_mse: 2.4226\n",
            "Epoch 245/500\n",
            "10/10 [==============================] - 0s 5ms/step - loss: 1.1545 - mae: 1.1545 - mse: 2.0936 - val_loss: 1.2238 - val_mae: 1.2238 - val_mse: 2.4194\n",
            "Epoch 246/500\n",
            "10/10 [==============================] - 0s 4ms/step - loss: 1.1530 - mae: 1.1530 - mse: 2.0871 - val_loss: 1.2242 - val_mae: 1.2242 - val_mse: 2.4160\n",
            "Epoch 247/500\n",
            "10/10 [==============================] - 0s 4ms/step - loss: 1.1512 - mae: 1.1512 - mse: 2.0801 - val_loss: 1.2245 - val_mae: 1.2245 - val_mse: 2.4129\n",
            "Epoch 248/500\n",
            "10/10 [==============================] - 0s 4ms/step - loss: 1.1497 - mae: 1.1497 - mse: 2.0739 - val_loss: 1.2248 - val_mae: 1.2248 - val_mse: 2.4100\n",
            "Epoch 249/500\n",
            "10/10 [==============================] - 0s 5ms/step - loss: 1.1482 - mae: 1.1482 - mse: 2.0682 - val_loss: 1.2249 - val_mae: 1.2249 - val_mse: 2.4073\n",
            "Epoch 250/500\n",
            "10/10 [==============================] - 0s 7ms/step - loss: 1.1469 - mae: 1.1469 - mse: 2.0628 - val_loss: 1.2251 - val_mae: 1.2251 - val_mse: 2.4047\n",
            "Epoch 251/500\n",
            "10/10 [==============================] - 0s 5ms/step - loss: 1.1456 - mae: 1.1456 - mse: 2.0571 - val_loss: 1.2254 - val_mae: 1.2254 - val_mse: 2.4023\n",
            "Epoch 252/500\n",
            "10/10 [==============================] - 0s 4ms/step - loss: 1.1444 - mae: 1.1444 - mse: 2.0519 - val_loss: 1.2256 - val_mae: 1.2256 - val_mse: 2.4000\n",
            "Epoch 253/500\n",
            "10/10 [==============================] - 0s 5ms/step - loss: 1.1434 - mae: 1.1434 - mse: 2.0472 - val_loss: 1.2258 - val_mae: 1.2258 - val_mse: 2.3978\n",
            "Epoch 254/500\n",
            "10/10 [==============================] - 0s 6ms/step - loss: 1.1424 - mae: 1.1424 - mse: 2.0430 - val_loss: 1.2258 - val_mae: 1.2258 - val_mse: 2.3957\n",
            "Epoch 255/500\n",
            "10/10 [==============================] - 0s 5ms/step - loss: 1.1416 - mae: 1.1416 - mse: 2.0390 - val_loss: 1.2260 - val_mae: 1.2260 - val_mse: 2.3937\n",
            "Epoch 256/500\n",
            "10/10 [==============================] - 0s 5ms/step - loss: 1.1408 - mae: 1.1408 - mse: 2.0356 - val_loss: 1.2261 - val_mae: 1.2261 - val_mse: 2.3917\n",
            "Epoch 257/500\n",
            "10/10 [==============================] - 0s 4ms/step - loss: 1.1400 - mae: 1.1400 - mse: 2.0321 - val_loss: 1.2265 - val_mae: 1.2265 - val_mse: 2.3897\n",
            "Epoch 258/500\n",
            "10/10 [==============================] - 0s 5ms/step - loss: 1.1392 - mae: 1.1392 - mse: 2.0281 - val_loss: 1.2268 - val_mae: 1.2268 - val_mse: 2.3877\n",
            "Epoch 259/500\n",
            "10/10 [==============================] - 0s 4ms/step - loss: 1.1383 - mae: 1.1383 - mse: 2.0245 - val_loss: 1.2268 - val_mae: 1.2268 - val_mse: 2.3858\n",
            "Epoch 260/500\n",
            "10/10 [==============================] - 0s 4ms/step - loss: 1.1376 - mae: 1.1376 - mse: 2.0212 - val_loss: 1.2270 - val_mae: 1.2270 - val_mse: 2.3840\n",
            "Epoch 261/500\n",
            "10/10 [==============================] - 0s 4ms/step - loss: 1.1369 - mae: 1.1369 - mse: 2.0177 - val_loss: 1.2272 - val_mae: 1.2272 - val_mse: 2.3821\n",
            "Epoch 262/500\n",
            "10/10 [==============================] - 0s 4ms/step - loss: 1.1362 - mae: 1.1362 - mse: 2.0144 - val_loss: 1.2275 - val_mae: 1.2275 - val_mse: 2.3802\n",
            "Epoch 263/500\n",
            "10/10 [==============================] - 0s 5ms/step - loss: 1.1355 - mae: 1.1355 - mse: 2.0111 - val_loss: 1.2277 - val_mae: 1.2277 - val_mse: 2.3784\n",
            "Epoch 264/500\n",
            "10/10 [==============================] - 0s 5ms/step - loss: 1.1347 - mae: 1.1347 - mse: 2.0075 - val_loss: 1.2275 - val_mae: 1.2275 - val_mse: 2.3766\n",
            "Epoch 265/500\n",
            "10/10 [==============================] - 0s 4ms/step - loss: 1.1341 - mae: 1.1341 - mse: 2.0050 - val_loss: 1.2275 - val_mae: 1.2275 - val_mse: 2.3747\n",
            "Epoch 266/500\n",
            "10/10 [==============================] - 0s 4ms/step - loss: 1.1334 - mae: 1.1334 - mse: 2.0019 - val_loss: 1.2275 - val_mae: 1.2275 - val_mse: 2.3729\n",
            "Epoch 267/500\n",
            "10/10 [==============================] - 0s 5ms/step - loss: 1.1327 - mae: 1.1327 - mse: 1.9989 - val_loss: 1.2275 - val_mae: 1.2275 - val_mse: 2.3711\n",
            "Epoch 268/500\n",
            "10/10 [==============================] - 0s 5ms/step - loss: 1.1322 - mae: 1.1322 - mse: 1.9962 - val_loss: 1.2278 - val_mae: 1.2278 - val_mse: 2.3694\n",
            "Epoch 269/500\n",
            "10/10 [==============================] - 0s 7ms/step - loss: 1.1314 - mae: 1.1314 - mse: 1.9926 - val_loss: 1.2280 - val_mae: 1.2280 - val_mse: 2.3677\n",
            "Epoch 270/500\n",
            "10/10 [==============================] - 0s 4ms/step - loss: 1.1307 - mae: 1.1307 - mse: 1.9897 - val_loss: 1.2278 - val_mae: 1.2278 - val_mse: 2.3659\n",
            "Epoch 271/500\n",
            "10/10 [==============================] - 0s 6ms/step - loss: 1.1301 - mae: 1.1301 - mse: 1.9871 - val_loss: 1.2278 - val_mae: 1.2278 - val_mse: 2.3641\n",
            "Epoch 272/500\n",
            "10/10 [==============================] - 0s 4ms/step - loss: 1.1295 - mae: 1.1295 - mse: 1.9845 - val_loss: 1.2275 - val_mae: 1.2275 - val_mse: 2.3622\n",
            "Epoch 273/500\n",
            "10/10 [==============================] - 0s 4ms/step - loss: 1.1289 - mae: 1.1289 - mse: 1.9822 - val_loss: 1.2276 - val_mae: 1.2276 - val_mse: 2.3604\n",
            "Epoch 274/500\n",
            "10/10 [==============================] - 0s 4ms/step - loss: 1.1283 - mae: 1.1283 - mse: 1.9791 - val_loss: 1.2277 - val_mae: 1.2277 - val_mse: 2.3587\n",
            "Epoch 275/500\n",
            "10/10 [==============================] - 0s 5ms/step - loss: 1.1277 - mae: 1.1277 - mse: 1.9767 - val_loss: 1.2274 - val_mae: 1.2274 - val_mse: 2.3568\n",
            "Epoch 276/500\n",
            "10/10 [==============================] - 0s 5ms/step - loss: 1.1271 - mae: 1.1271 - mse: 1.9745 - val_loss: 1.2273 - val_mae: 1.2273 - val_mse: 2.3549\n",
            "Epoch 277/500\n",
            "10/10 [==============================] - 0s 4ms/step - loss: 1.1265 - mae: 1.1265 - mse: 1.9718 - val_loss: 1.2273 - val_mae: 1.2273 - val_mse: 2.3532\n",
            "Epoch 278/500\n",
            "10/10 [==============================] - 0s 5ms/step - loss: 1.1259 - mae: 1.1259 - mse: 1.9692 - val_loss: 1.2272 - val_mae: 1.2272 - val_mse: 2.3513\n",
            "Epoch 279/500\n",
            "10/10 [==============================] - 0s 5ms/step - loss: 1.1253 - mae: 1.1253 - mse: 1.9667 - val_loss: 1.2271 - val_mae: 1.2271 - val_mse: 2.3495\n",
            "Epoch 280/500\n",
            "10/10 [==============================] - 0s 5ms/step - loss: 1.1247 - mae: 1.1247 - mse: 1.9644 - val_loss: 1.2270 - val_mae: 1.2270 - val_mse: 2.3477\n",
            "Epoch 281/500\n",
            "10/10 [==============================] - 0s 7ms/step - loss: 1.1241 - mae: 1.1241 - mse: 1.9616 - val_loss: 1.2271 - val_mae: 1.2271 - val_mse: 2.3459\n",
            "Epoch 282/500\n",
            "10/10 [==============================] - 0s 5ms/step - loss: 1.1234 - mae: 1.1234 - mse: 1.9590 - val_loss: 1.2270 - val_mae: 1.2270 - val_mse: 2.3441\n",
            "Epoch 283/500\n",
            "10/10 [==============================] - 0s 6ms/step - loss: 1.1228 - mae: 1.1228 - mse: 1.9565 - val_loss: 1.2270 - val_mae: 1.2270 - val_mse: 2.3423\n",
            "Epoch 284/500\n",
            "10/10 [==============================] - 0s 5ms/step - loss: 1.1222 - mae: 1.1222 - mse: 1.9540 - val_loss: 1.2271 - val_mae: 1.2271 - val_mse: 2.3406\n",
            "Epoch 285/500\n",
            "10/10 [==============================] - 0s 4ms/step - loss: 1.1216 - mae: 1.1216 - mse: 1.9515 - val_loss: 1.2268 - val_mae: 1.2268 - val_mse: 2.3386\n",
            "Epoch 286/500\n",
            "10/10 [==============================] - 0s 5ms/step - loss: 1.1210 - mae: 1.1210 - mse: 1.9490 - val_loss: 1.2268 - val_mae: 1.2268 - val_mse: 2.3368\n",
            "Epoch 287/500\n",
            "10/10 [==============================] - 0s 4ms/step - loss: 1.1205 - mae: 1.1205 - mse: 1.9466 - val_loss: 1.2270 - val_mae: 1.2270 - val_mse: 2.3351\n",
            "Epoch 288/500\n",
            "10/10 [==============================] - 0s 5ms/step - loss: 1.1198 - mae: 1.1198 - mse: 1.9439 - val_loss: 1.2268 - val_mae: 1.2268 - val_mse: 2.3332\n",
            "Epoch 289/500\n",
            "10/10 [==============================] - 0s 7ms/step - loss: 1.1192 - mae: 1.1192 - mse: 1.9417 - val_loss: 1.2265 - val_mae: 1.2265 - val_mse: 2.3312\n",
            "Epoch 290/500\n",
            "10/10 [==============================] - 0s 6ms/step - loss: 1.1186 - mae: 1.1186 - mse: 1.9392 - val_loss: 1.2265 - val_mae: 1.2265 - val_mse: 2.3294\n",
            "Epoch 291/500\n",
            "10/10 [==============================] - 0s 6ms/step - loss: 1.1179 - mae: 1.1179 - mse: 1.9367 - val_loss: 1.2264 - val_mae: 1.2264 - val_mse: 2.3276\n",
            "Epoch 292/500\n",
            "10/10 [==============================] - 0s 4ms/step - loss: 1.1173 - mae: 1.1173 - mse: 1.9343 - val_loss: 1.2264 - val_mae: 1.2264 - val_mse: 2.3259\n",
            "Epoch 293/500\n",
            "10/10 [==============================] - 0s 4ms/step - loss: 1.1167 - mae: 1.1167 - mse: 1.9317 - val_loss: 1.2261 - val_mae: 1.2261 - val_mse: 2.3239\n",
            "Epoch 294/500\n",
            "10/10 [==============================] - 0s 5ms/step - loss: 1.1161 - mae: 1.1161 - mse: 1.9293 - val_loss: 1.2262 - val_mae: 1.2262 - val_mse: 2.3222\n",
            "Epoch 295/500\n",
            "10/10 [==============================] - 0s 5ms/step - loss: 1.1154 - mae: 1.1154 - mse: 1.9269 - val_loss: 1.2260 - val_mae: 1.2260 - val_mse: 2.3202\n",
            "Epoch 296/500\n",
            "10/10 [==============================] - 0s 5ms/step - loss: 1.1148 - mae: 1.1148 - mse: 1.9244 - val_loss: 1.2260 - val_mae: 1.2260 - val_mse: 2.3185\n",
            "Epoch 297/500\n",
            "10/10 [==============================] - 0s 4ms/step - loss: 1.1142 - mae: 1.1142 - mse: 1.9221 - val_loss: 1.2255 - val_mae: 1.2255 - val_mse: 2.3163\n",
            "Epoch 298/500\n",
            "10/10 [==============================] - 0s 4ms/step - loss: 1.1136 - mae: 1.1136 - mse: 1.9196 - val_loss: 1.2255 - val_mae: 1.2255 - val_mse: 2.3145\n",
            "Epoch 299/500\n",
            "10/10 [==============================] - 0s 4ms/step - loss: 1.1130 - mae: 1.1130 - mse: 1.9175 - val_loss: 1.2250 - val_mae: 1.2250 - val_mse: 2.3124\n",
            "Epoch 300/500\n",
            "10/10 [==============================] - 0s 4ms/step - loss: 1.1124 - mae: 1.1124 - mse: 1.9151 - val_loss: 1.2248 - val_mae: 1.2248 - val_mse: 2.3104\n",
            "Epoch 301/500\n",
            "10/10 [==============================] - 0s 4ms/step - loss: 1.1118 - mae: 1.1118 - mse: 1.9127 - val_loss: 1.2247 - val_mae: 1.2247 - val_mse: 2.3085\n",
            "Epoch 302/500\n",
            "10/10 [==============================] - 0s 5ms/step - loss: 1.1111 - mae: 1.1111 - mse: 1.9103 - val_loss: 1.2245 - val_mae: 1.2245 - val_mse: 2.3066\n",
            "Epoch 303/500\n",
            "10/10 [==============================] - 0s 5ms/step - loss: 1.1105 - mae: 1.1105 - mse: 1.9079 - val_loss: 1.2243 - val_mae: 1.2243 - val_mse: 2.3046\n",
            "Epoch 304/500\n",
            "10/10 [==============================] - 0s 5ms/step - loss: 1.1099 - mae: 1.1099 - mse: 1.9058 - val_loss: 1.2239 - val_mae: 1.2239 - val_mse: 2.3025\n",
            "Epoch 305/500\n",
            "10/10 [==============================] - 0s 6ms/step - loss: 1.1093 - mae: 1.1093 - mse: 1.9034 - val_loss: 1.2235 - val_mae: 1.2235 - val_mse: 2.3004\n",
            "Epoch 306/500\n",
            "10/10 [==============================] - 0s 5ms/step - loss: 1.1088 - mae: 1.1088 - mse: 1.9010 - val_loss: 1.2234 - val_mae: 1.2234 - val_mse: 2.2986\n",
            "Epoch 307/500\n",
            "10/10 [==============================] - 0s 5ms/step - loss: 1.1081 - mae: 1.1081 - mse: 1.8989 - val_loss: 1.2231 - val_mae: 1.2231 - val_mse: 2.2964\n",
            "Epoch 308/500\n",
            "10/10 [==============================] - 0s 4ms/step - loss: 1.1075 - mae: 1.1075 - mse: 1.8966 - val_loss: 1.2225 - val_mae: 1.2225 - val_mse: 2.2941\n",
            "Epoch 309/500\n",
            "10/10 [==============================] - 0s 4ms/step - loss: 1.1069 - mae: 1.1069 - mse: 1.8943 - val_loss: 1.2221 - val_mae: 1.2221 - val_mse: 2.2919\n",
            "Epoch 310/500\n",
            "10/10 [==============================] - 0s 6ms/step - loss: 1.1062 - mae: 1.1062 - mse: 1.8920 - val_loss: 1.2219 - val_mae: 1.2219 - val_mse: 2.2900\n",
            "Epoch 311/500\n",
            "10/10 [==============================] - 0s 4ms/step - loss: 1.1056 - mae: 1.1056 - mse: 1.8898 - val_loss: 1.2214 - val_mae: 1.2214 - val_mse: 2.2878\n",
            "Epoch 312/500\n",
            "10/10 [==============================] - 0s 5ms/step - loss: 1.1050 - mae: 1.1050 - mse: 1.8874 - val_loss: 1.2213 - val_mae: 1.2213 - val_mse: 2.2858\n",
            "Epoch 313/500\n",
            "10/10 [==============================] - 0s 5ms/step - loss: 1.1044 - mae: 1.1044 - mse: 1.8850 - val_loss: 1.2208 - val_mae: 1.2208 - val_mse: 2.2836\n",
            "Epoch 314/500\n",
            "10/10 [==============================] - 0s 5ms/step - loss: 1.1037 - mae: 1.1037 - mse: 1.8828 - val_loss: 1.2202 - val_mae: 1.2202 - val_mse: 2.2812\n",
            "Epoch 315/500\n",
            "10/10 [==============================] - 0s 5ms/step - loss: 1.1031 - mae: 1.1031 - mse: 1.8806 - val_loss: 1.2200 - val_mae: 1.2200 - val_mse: 2.2792\n",
            "Epoch 316/500\n",
            "10/10 [==============================] - 0s 4ms/step - loss: 1.1025 - mae: 1.1025 - mse: 1.8781 - val_loss: 1.2195 - val_mae: 1.2195 - val_mse: 2.2770\n",
            "Epoch 317/500\n",
            "10/10 [==============================] - 0s 5ms/step - loss: 1.1018 - mae: 1.1018 - mse: 1.8759 - val_loss: 1.2190 - val_mae: 1.2190 - val_mse: 2.2747\n",
            "Epoch 318/500\n",
            "10/10 [==============================] - 0s 5ms/step - loss: 1.1013 - mae: 1.1013 - mse: 1.8737 - val_loss: 1.2187 - val_mae: 1.2187 - val_mse: 2.2726\n",
            "Epoch 319/500\n",
            "10/10 [==============================] - 0s 5ms/step - loss: 1.1006 - mae: 1.1006 - mse: 1.8712 - val_loss: 1.2184 - val_mae: 1.2184 - val_mse: 2.2704\n",
            "Epoch 320/500\n",
            "10/10 [==============================] - 0s 4ms/step - loss: 1.0999 - mae: 1.0999 - mse: 1.8690 - val_loss: 1.2178 - val_mae: 1.2178 - val_mse: 2.2680\n",
            "Epoch 321/500\n",
            "10/10 [==============================] - 0s 5ms/step - loss: 1.0993 - mae: 1.0993 - mse: 1.8667 - val_loss: 1.2172 - val_mae: 1.2172 - val_mse: 2.2656\n",
            "Epoch 322/500\n",
            "10/10 [==============================] - 0s 4ms/step - loss: 1.0987 - mae: 1.0987 - mse: 1.8645 - val_loss: 1.2166 - val_mae: 1.2166 - val_mse: 2.2632\n",
            "Epoch 323/500\n",
            "10/10 [==============================] - 0s 5ms/step - loss: 1.0981 - mae: 1.0981 - mse: 1.8619 - val_loss: 1.2166 - val_mae: 1.2166 - val_mse: 2.2614\n",
            "Epoch 324/500\n",
            "10/10 [==============================] - 0s 5ms/step - loss: 1.0974 - mae: 1.0974 - mse: 1.8597 - val_loss: 1.2161 - val_mae: 1.2161 - val_mse: 2.2591\n",
            "Epoch 325/500\n",
            "10/10 [==============================] - 0s 6ms/step - loss: 1.0967 - mae: 1.0967 - mse: 1.8573 - val_loss: 1.2155 - val_mae: 1.2155 - val_mse: 2.2566\n",
            "Epoch 326/500\n",
            "10/10 [==============================] - 0s 6ms/step - loss: 1.0961 - mae: 1.0961 - mse: 1.8551 - val_loss: 1.2145 - val_mae: 1.2145 - val_mse: 2.2538\n",
            "Epoch 327/500\n",
            "10/10 [==============================] - 0s 5ms/step - loss: 1.0955 - mae: 1.0955 - mse: 1.8530 - val_loss: 1.2140 - val_mae: 1.2140 - val_mse: 2.2514\n",
            "Epoch 328/500\n",
            "10/10 [==============================] - 0s 6ms/step - loss: 1.0948 - mae: 1.0948 - mse: 1.8506 - val_loss: 1.2134 - val_mae: 1.2134 - val_mse: 2.2490\n",
            "Epoch 329/500\n",
            "10/10 [==============================] - 0s 5ms/step - loss: 1.0941 - mae: 1.0941 - mse: 1.8483 - val_loss: 1.2128 - val_mae: 1.2128 - val_mse: 2.2466\n",
            "Epoch 330/500\n",
            "10/10 [==============================] - 0s 6ms/step - loss: 1.0935 - mae: 1.0935 - mse: 1.8461 - val_loss: 1.2118 - val_mae: 1.2118 - val_mse: 2.2437\n",
            "Epoch 331/500\n",
            "10/10 [==============================] - 0s 4ms/step - loss: 1.0928 - mae: 1.0928 - mse: 1.8441 - val_loss: 1.2108 - val_mae: 1.2108 - val_mse: 2.2407\n",
            "Epoch 332/500\n",
            "10/10 [==============================] - 0s 6ms/step - loss: 1.0922 - mae: 1.0922 - mse: 1.8420 - val_loss: 1.2098 - val_mae: 1.2098 - val_mse: 2.2380\n",
            "Epoch 333/500\n",
            "10/10 [==============================] - 0s 5ms/step - loss: 1.0915 - mae: 1.0915 - mse: 1.8396 - val_loss: 1.2098 - val_mae: 1.2098 - val_mse: 2.2361\n",
            "Epoch 334/500\n",
            "10/10 [==============================] - 0s 5ms/step - loss: 1.0908 - mae: 1.0908 - mse: 1.8370 - val_loss: 1.2090 - val_mae: 1.2090 - val_mse: 2.2334\n",
            "Epoch 335/500\n",
            "10/10 [==============================] - 0s 5ms/step - loss: 1.0902 - mae: 1.0902 - mse: 1.8346 - val_loss: 1.2088 - val_mae: 1.2088 - val_mse: 2.2312\n",
            "Epoch 336/500\n",
            "10/10 [==============================] - 0s 5ms/step - loss: 1.0894 - mae: 1.0894 - mse: 1.8322 - val_loss: 1.2081 - val_mae: 1.2081 - val_mse: 2.2286\n",
            "Epoch 337/500\n",
            "10/10 [==============================] - 0s 5ms/step - loss: 1.0888 - mae: 1.0888 - mse: 1.8300 - val_loss: 1.2074 - val_mae: 1.2074 - val_mse: 2.2260\n",
            "Epoch 338/500\n",
            "10/10 [==============================] - 0s 5ms/step - loss: 1.0881 - mae: 1.0881 - mse: 1.8275 - val_loss: 1.2069 - val_mae: 1.2069 - val_mse: 2.2237\n",
            "Epoch 339/500\n",
            "10/10 [==============================] - 0s 6ms/step - loss: 1.0874 - mae: 1.0874 - mse: 1.8251 - val_loss: 1.2062 - val_mae: 1.2062 - val_mse: 2.2209\n",
            "Epoch 340/500\n",
            "10/10 [==============================] - 0s 5ms/step - loss: 1.0867 - mae: 1.0867 - mse: 1.8231 - val_loss: 1.2049 - val_mae: 1.2049 - val_mse: 2.2178\n",
            "Epoch 341/500\n",
            "10/10 [==============================] - 0s 4ms/step - loss: 1.0860 - mae: 1.0860 - mse: 1.8208 - val_loss: 1.2042 - val_mae: 1.2042 - val_mse: 2.2151\n",
            "Epoch 342/500\n",
            "10/10 [==============================] - 0s 4ms/step - loss: 1.0853 - mae: 1.0853 - mse: 1.8182 - val_loss: 1.2041 - val_mae: 1.2041 - val_mse: 2.2131\n",
            "Epoch 343/500\n",
            "10/10 [==============================] - 0s 5ms/step - loss: 1.0846 - mae: 1.0846 - mse: 1.8156 - val_loss: 1.2033 - val_mae: 1.2033 - val_mse: 2.2103\n",
            "Epoch 344/500\n",
            "10/10 [==============================] - 0s 5ms/step - loss: 1.0840 - mae: 1.0840 - mse: 1.8135 - val_loss: 1.2022 - val_mae: 1.2022 - val_mse: 2.2073\n",
            "Epoch 345/500\n",
            "10/10 [==============================] - 0s 5ms/step - loss: 1.0832 - mae: 1.0832 - mse: 1.8112 - val_loss: 1.2014 - val_mae: 1.2014 - val_mse: 2.2045\n",
            "Epoch 346/500\n",
            "10/10 [==============================] - 0s 5ms/step - loss: 1.0825 - mae: 1.0825 - mse: 1.8087 - val_loss: 1.2010 - val_mae: 1.2010 - val_mse: 2.2021\n",
            "Epoch 347/500\n",
            "10/10 [==============================] - 0s 5ms/step - loss: 1.0818 - mae: 1.0818 - mse: 1.8061 - val_loss: 1.2006 - val_mae: 1.2006 - val_mse: 2.1997\n",
            "Epoch 348/500\n",
            "10/10 [==============================] - 0s 4ms/step - loss: 1.0811 - mae: 1.0811 - mse: 1.8036 - val_loss: 1.2002 - val_mae: 1.2002 - val_mse: 2.1974\n",
            "Epoch 349/500\n",
            "10/10 [==============================] - 0s 4ms/step - loss: 1.0804 - mae: 1.0804 - mse: 1.8010 - val_loss: 1.1996 - val_mae: 1.1996 - val_mse: 2.1948\n",
            "Epoch 350/500\n",
            "10/10 [==============================] - 0s 4ms/step - loss: 1.0797 - mae: 1.0797 - mse: 1.7988 - val_loss: 1.1980 - val_mae: 1.1980 - val_mse: 2.1913\n",
            "Epoch 351/500\n",
            "10/10 [==============================] - 0s 4ms/step - loss: 1.0790 - mae: 1.0790 - mse: 1.7963 - val_loss: 1.1975 - val_mae: 1.1975 - val_mse: 2.1887\n",
            "Epoch 352/500\n",
            "10/10 [==============================] - 0s 5ms/step - loss: 1.0782 - mae: 1.0782 - mse: 1.7939 - val_loss: 1.1969 - val_mae: 1.1969 - val_mse: 2.1861\n",
            "Epoch 353/500\n",
            "10/10 [==============================] - 0s 5ms/step - loss: 1.0775 - mae: 1.0775 - mse: 1.7915 - val_loss: 1.1960 - val_mae: 1.1960 - val_mse: 2.1833\n",
            "Epoch 354/500\n",
            "10/10 [==============================] - 0s 5ms/step - loss: 1.0767 - mae: 1.0767 - mse: 1.7890 - val_loss: 1.1951 - val_mae: 1.1951 - val_mse: 2.1803\n",
            "Epoch 355/500\n",
            "10/10 [==============================] - 0s 4ms/step - loss: 1.0760 - mae: 1.0760 - mse: 1.7865 - val_loss: 1.1948 - val_mae: 1.1948 - val_mse: 2.1780\n",
            "Epoch 356/500\n",
            "10/10 [==============================] - 0s 4ms/step - loss: 1.0753 - mae: 1.0753 - mse: 1.7838 - val_loss: 1.1939 - val_mae: 1.1939 - val_mse: 2.1751\n",
            "Epoch 357/500\n",
            "10/10 [==============================] - 0s 5ms/step - loss: 1.0745 - mae: 1.0745 - mse: 1.7815 - val_loss: 1.1932 - val_mae: 1.1932 - val_mse: 2.1724\n",
            "Epoch 358/500\n",
            "10/10 [==============================] - 0s 5ms/step - loss: 1.0738 - mae: 1.0738 - mse: 1.7790 - val_loss: 1.1925 - val_mae: 1.1925 - val_mse: 2.1696\n",
            "Epoch 359/500\n",
            "10/10 [==============================] - 0s 5ms/step - loss: 1.0731 - mae: 1.0731 - mse: 1.7765 - val_loss: 1.1914 - val_mae: 1.1914 - val_mse: 2.1665\n",
            "Epoch 360/500\n",
            "10/10 [==============================] - 0s 4ms/step - loss: 1.0723 - mae: 1.0723 - mse: 1.7740 - val_loss: 1.1908 - val_mae: 1.1908 - val_mse: 2.1638\n",
            "Epoch 361/500\n",
            "10/10 [==============================] - 0s 4ms/step - loss: 1.0715 - mae: 1.0715 - mse: 1.7715 - val_loss: 1.1900 - val_mae: 1.1900 - val_mse: 2.1610\n",
            "Epoch 362/500\n",
            "10/10 [==============================] - 0s 4ms/step - loss: 1.0708 - mae: 1.0708 - mse: 1.7691 - val_loss: 1.1891 - val_mae: 1.1891 - val_mse: 2.1580\n",
            "Epoch 363/500\n",
            "10/10 [==============================] - 0s 5ms/step - loss: 1.0701 - mae: 1.0701 - mse: 1.7665 - val_loss: 1.1890 - val_mae: 1.1890 - val_mse: 2.1559\n",
            "Epoch 364/500\n",
            "10/10 [==============================] - 0s 4ms/step - loss: 1.0693 - mae: 1.0693 - mse: 1.7636 - val_loss: 1.1882 - val_mae: 1.1882 - val_mse: 2.1529\n",
            "Epoch 365/500\n",
            "10/10 [==============================] - 0s 5ms/step - loss: 1.0685 - mae: 1.0685 - mse: 1.7611 - val_loss: 1.1873 - val_mae: 1.1873 - val_mse: 2.1499\n",
            "Epoch 366/500\n",
            "10/10 [==============================] - 0s 4ms/step - loss: 1.0678 - mae: 1.0678 - mse: 1.7586 - val_loss: 1.1862 - val_mae: 1.1862 - val_mse: 2.1468\n",
            "Epoch 367/500\n",
            "10/10 [==============================] - 0s 4ms/step - loss: 1.0670 - mae: 1.0670 - mse: 1.7562 - val_loss: 1.1853 - val_mae: 1.1853 - val_mse: 2.1438\n",
            "Epoch 368/500\n",
            "10/10 [==============================] - 0s 4ms/step - loss: 1.0663 - mae: 1.0663 - mse: 1.7537 - val_loss: 1.1847 - val_mae: 1.1847 - val_mse: 2.1411\n",
            "Epoch 369/500\n",
            "10/10 [==============================] - 0s 5ms/step - loss: 1.0655 - mae: 1.0655 - mse: 1.7510 - val_loss: 1.1837 - val_mae: 1.1837 - val_mse: 2.1379\n",
            "Epoch 370/500\n",
            "10/10 [==============================] - 0s 4ms/step - loss: 1.0648 - mae: 1.0648 - mse: 1.7488 - val_loss: 1.1823 - val_mae: 1.1823 - val_mse: 2.1345\n",
            "Epoch 371/500\n",
            "10/10 [==============================] - 0s 5ms/step - loss: 1.0639 - mae: 1.0639 - mse: 1.7462 - val_loss: 1.1817 - val_mae: 1.1817 - val_mse: 2.1318\n",
            "Epoch 372/500\n",
            "10/10 [==============================] - 0s 5ms/step - loss: 1.0631 - mae: 1.0631 - mse: 1.7435 - val_loss: 1.1810 - val_mae: 1.1810 - val_mse: 2.1289\n",
            "Epoch 373/500\n",
            "10/10 [==============================] - 0s 5ms/step - loss: 1.0624 - mae: 1.0624 - mse: 1.7407 - val_loss: 1.1805 - val_mae: 1.1805 - val_mse: 2.1263\n",
            "Epoch 374/500\n",
            "10/10 [==============================] - 0s 5ms/step - loss: 1.0616 - mae: 1.0616 - mse: 1.7381 - val_loss: 1.1797 - val_mae: 1.1797 - val_mse: 2.1234\n",
            "Epoch 375/500\n",
            "10/10 [==============================] - 0s 5ms/step - loss: 1.0609 - mae: 1.0609 - mse: 1.7356 - val_loss: 1.1794 - val_mae: 1.1794 - val_mse: 2.1209\n",
            "Epoch 376/500\n",
            "10/10 [==============================] - 0s 6ms/step - loss: 1.0600 - mae: 1.0600 - mse: 1.7326 - val_loss: 1.1782 - val_mae: 1.1782 - val_mse: 2.1176\n",
            "Epoch 377/500\n",
            "10/10 [==============================] - 0s 5ms/step - loss: 1.0592 - mae: 1.0592 - mse: 1.7300 - val_loss: 1.1775 - val_mae: 1.1775 - val_mse: 2.1148\n",
            "Epoch 378/500\n",
            "10/10 [==============================] - 0s 6ms/step - loss: 1.0585 - mae: 1.0585 - mse: 1.7276 - val_loss: 1.1760 - val_mae: 1.1760 - val_mse: 2.1110\n",
            "Epoch 379/500\n",
            "10/10 [==============================] - 0s 4ms/step - loss: 1.0576 - mae: 1.0576 - mse: 1.7250 - val_loss: 1.1752 - val_mae: 1.1752 - val_mse: 2.1082\n",
            "Epoch 380/500\n",
            "10/10 [==============================] - 0s 5ms/step - loss: 1.0568 - mae: 1.0568 - mse: 1.7224 - val_loss: 1.1744 - val_mae: 1.1744 - val_mse: 2.1051\n",
            "Epoch 381/500\n",
            "10/10 [==============================] - 0s 6ms/step - loss: 1.0560 - mae: 1.0560 - mse: 1.7197 - val_loss: 1.1733 - val_mae: 1.1733 - val_mse: 2.1019\n",
            "Epoch 382/500\n",
            "10/10 [==============================] - 0s 5ms/step - loss: 1.0552 - mae: 1.0552 - mse: 1.7171 - val_loss: 1.1724 - val_mae: 1.1724 - val_mse: 2.0988\n",
            "Epoch 383/500\n",
            "10/10 [==============================] - 0s 6ms/step - loss: 1.0544 - mae: 1.0544 - mse: 1.7146 - val_loss: 1.1722 - val_mae: 1.1722 - val_mse: 2.0964\n",
            "Epoch 384/500\n",
            "10/10 [==============================] - 0s 5ms/step - loss: 1.0535 - mae: 1.0535 - mse: 1.7116 - val_loss: 1.1710 - val_mae: 1.1710 - val_mse: 2.0930\n",
            "Epoch 385/500\n",
            "10/10 [==============================] - 0s 5ms/step - loss: 1.0527 - mae: 1.0527 - mse: 1.7089 - val_loss: 1.1705 - val_mae: 1.1705 - val_mse: 2.0902\n",
            "Epoch 386/500\n",
            "10/10 [==============================] - 0s 4ms/step - loss: 1.0519 - mae: 1.0519 - mse: 1.7061 - val_loss: 1.1696 - val_mae: 1.1696 - val_mse: 2.0872\n",
            "Epoch 387/500\n",
            "10/10 [==============================] - 0s 5ms/step - loss: 1.0511 - mae: 1.0511 - mse: 1.7034 - val_loss: 1.1687 - val_mae: 1.1687 - val_mse: 2.0841\n",
            "Epoch 388/500\n",
            "10/10 [==============================] - 0s 4ms/step - loss: 1.0502 - mae: 1.0502 - mse: 1.7007 - val_loss: 1.1676 - val_mae: 1.1676 - val_mse: 2.0807\n",
            "Epoch 389/500\n",
            "10/10 [==============================] - 0s 5ms/step - loss: 1.0494 - mae: 1.0494 - mse: 1.6979 - val_loss: 1.1670 - val_mae: 1.1670 - val_mse: 2.0779\n",
            "Epoch 390/500\n",
            "10/10 [==============================] - 0s 5ms/step - loss: 1.0486 - mae: 1.0486 - mse: 1.6953 - val_loss: 1.1655 - val_mae: 1.1655 - val_mse: 2.0742\n",
            "Epoch 391/500\n",
            "10/10 [==============================] - 0s 4ms/step - loss: 1.0477 - mae: 1.0477 - mse: 1.6927 - val_loss: 1.1649 - val_mae: 1.1649 - val_mse: 2.0713\n",
            "Epoch 392/500\n",
            "10/10 [==============================] - 0s 5ms/step - loss: 1.0470 - mae: 1.0470 - mse: 1.6901 - val_loss: 1.1634 - val_mae: 1.1634 - val_mse: 2.0676\n",
            "Epoch 393/500\n",
            "10/10 [==============================] - 0s 5ms/step - loss: 1.0460 - mae: 1.0460 - mse: 1.6872 - val_loss: 1.1625 - val_mae: 1.1625 - val_mse: 2.0645\n",
            "Epoch 394/500\n",
            "10/10 [==============================] - 0s 5ms/step - loss: 1.0452 - mae: 1.0452 - mse: 1.6845 - val_loss: 1.1619 - val_mae: 1.1619 - val_mse: 2.0616\n",
            "Epoch 395/500\n",
            "10/10 [==============================] - 0s 4ms/step - loss: 1.0444 - mae: 1.0444 - mse: 1.6816 - val_loss: 1.1614 - val_mae: 1.1614 - val_mse: 2.0589\n",
            "Epoch 396/500\n",
            "10/10 [==============================] - 0s 5ms/step - loss: 1.0435 - mae: 1.0435 - mse: 1.6789 - val_loss: 1.1601 - val_mae: 1.1601 - val_mse: 2.0552\n",
            "Epoch 397/500\n",
            "10/10 [==============================] - 0s 5ms/step - loss: 1.0427 - mae: 1.0427 - mse: 1.6761 - val_loss: 1.1591 - val_mae: 1.1591 - val_mse: 2.0520\n",
            "Epoch 398/500\n",
            "10/10 [==============================] - 0s 4ms/step - loss: 1.0418 - mae: 1.0418 - mse: 1.6734 - val_loss: 1.1577 - val_mae: 1.1577 - val_mse: 2.0484\n",
            "Epoch 399/500\n",
            "10/10 [==============================] - 0s 5ms/step - loss: 1.0409 - mae: 1.0409 - mse: 1.6708 - val_loss: 1.1573 - val_mae: 1.1573 - val_mse: 2.0457\n",
            "Epoch 400/500\n",
            "10/10 [==============================] - 0s 6ms/step - loss: 1.0401 - mae: 1.0401 - mse: 1.6677 - val_loss: 1.1567 - val_mae: 1.1567 - val_mse: 2.0428\n",
            "Epoch 401/500\n",
            "10/10 [==============================] - 0s 4ms/step - loss: 1.0392 - mae: 1.0392 - mse: 1.6649 - val_loss: 1.1549 - val_mae: 1.1549 - val_mse: 2.0387\n",
            "Epoch 402/500\n",
            "10/10 [==============================] - 0s 4ms/step - loss: 1.0384 - mae: 1.0384 - mse: 1.6624 - val_loss: 1.1542 - val_mae: 1.1542 - val_mse: 2.0357\n",
            "Epoch 403/500\n",
            "10/10 [==============================] - 0s 4ms/step - loss: 1.0375 - mae: 1.0375 - mse: 1.6596 - val_loss: 1.1527 - val_mae: 1.1527 - val_mse: 2.0320\n",
            "Epoch 404/500\n",
            "10/10 [==============================] - 0s 6ms/step - loss: 1.0366 - mae: 1.0366 - mse: 1.6567 - val_loss: 1.1524 - val_mae: 1.1524 - val_mse: 2.0294\n",
            "Epoch 405/500\n",
            "10/10 [==============================] - 0s 5ms/step - loss: 1.0357 - mae: 1.0357 - mse: 1.6537 - val_loss: 1.1515 - val_mae: 1.1515 - val_mse: 2.0262\n",
            "Epoch 406/500\n",
            "10/10 [==============================] - 0s 5ms/step - loss: 1.0349 - mae: 1.0349 - mse: 1.6513 - val_loss: 1.1496 - val_mae: 1.1496 - val_mse: 2.0219\n",
            "Epoch 407/500\n",
            "10/10 [==============================] - 0s 4ms/step - loss: 1.0339 - mae: 1.0339 - mse: 1.6486 - val_loss: 1.1486 - val_mae: 1.1486 - val_mse: 2.0186\n",
            "Epoch 408/500\n",
            "10/10 [==============================] - 0s 5ms/step - loss: 1.0330 - mae: 1.0330 - mse: 1.6456 - val_loss: 1.1475 - val_mae: 1.1475 - val_mse: 2.0152\n",
            "Epoch 409/500\n",
            "10/10 [==============================] - 0s 4ms/step - loss: 1.0322 - mae: 1.0322 - mse: 1.6427 - val_loss: 1.1471 - val_mae: 1.1471 - val_mse: 2.0125\n",
            "Epoch 410/500\n",
            "10/10 [==============================] - 0s 5ms/step - loss: 1.0312 - mae: 1.0312 - mse: 1.6396 - val_loss: 1.1462 - val_mae: 1.1462 - val_mse: 2.0092\n",
            "Epoch 411/500\n",
            "10/10 [==============================] - 0s 4ms/step - loss: 1.0303 - mae: 1.0303 - mse: 1.6368 - val_loss: 1.1448 - val_mae: 1.1448 - val_mse: 2.0055\n",
            "Epoch 412/500\n",
            "10/10 [==============================] - 0s 5ms/step - loss: 1.0295 - mae: 1.0295 - mse: 1.6340 - val_loss: 1.1442 - val_mae: 1.1442 - val_mse: 2.0026\n",
            "Epoch 413/500\n",
            "10/10 [==============================] - 0s 7ms/step - loss: 1.0286 - mae: 1.0286 - mse: 1.6311 - val_loss: 1.1425 - val_mae: 1.1425 - val_mse: 1.9984\n",
            "Epoch 414/500\n",
            "10/10 [==============================] - 0s 5ms/step - loss: 1.0276 - mae: 1.0276 - mse: 1.6284 - val_loss: 1.1419 - val_mae: 1.1419 - val_mse: 1.9955\n",
            "Epoch 415/500\n",
            "10/10 [==============================] - 0s 4ms/step - loss: 1.0267 - mae: 1.0267 - mse: 1.6253 - val_loss: 1.1407 - val_mae: 1.1407 - val_mse: 1.9919\n",
            "Epoch 416/500\n",
            "10/10 [==============================] - 0s 5ms/step - loss: 1.0258 - mae: 1.0258 - mse: 1.6225 - val_loss: 1.1395 - val_mae: 1.1395 - val_mse: 1.9883\n",
            "Epoch 417/500\n",
            "10/10 [==============================] - 0s 5ms/step - loss: 1.0249 - mae: 1.0249 - mse: 1.6197 - val_loss: 1.1389 - val_mae: 1.1389 - val_mse: 1.9853\n",
            "Epoch 418/500\n",
            "10/10 [==============================] - 0s 8ms/step - loss: 1.0240 - mae: 1.0240 - mse: 1.6168 - val_loss: 1.1376 - val_mae: 1.1376 - val_mse: 1.9817\n",
            "Epoch 419/500\n",
            "10/10 [==============================] - 0s 5ms/step - loss: 1.0230 - mae: 1.0230 - mse: 1.6139 - val_loss: 1.1364 - val_mae: 1.1364 - val_mse: 1.9781\n",
            "Epoch 420/500\n",
            "10/10 [==============================] - 0s 5ms/step - loss: 1.0221 - mae: 1.0221 - mse: 1.6108 - val_loss: 1.1358 - val_mae: 1.1358 - val_mse: 1.9751\n",
            "Epoch 421/500\n",
            "10/10 [==============================] - 0s 5ms/step - loss: 1.0211 - mae: 1.0211 - mse: 1.6077 - val_loss: 1.1348 - val_mae: 1.1348 - val_mse: 1.9718\n",
            "Epoch 422/500\n",
            "10/10 [==============================] - 0s 5ms/step - loss: 1.0203 - mae: 1.0203 - mse: 1.6049 - val_loss: 1.1341 - val_mae: 1.1341 - val_mse: 1.9686\n",
            "Epoch 423/500\n",
            "10/10 [==============================] - 0s 6ms/step - loss: 1.0193 - mae: 1.0193 - mse: 1.6020 - val_loss: 1.1323 - val_mae: 1.1323 - val_mse: 1.9643\n",
            "Epoch 424/500\n",
            "10/10 [==============================] - 0s 5ms/step - loss: 1.0183 - mae: 1.0183 - mse: 1.5991 - val_loss: 1.1318 - val_mae: 1.1318 - val_mse: 1.9615\n",
            "Epoch 425/500\n",
            "10/10 [==============================] - 0s 4ms/step - loss: 1.0174 - mae: 1.0174 - mse: 1.5959 - val_loss: 1.1309 - val_mae: 1.1309 - val_mse: 1.9583\n",
            "Epoch 426/500\n",
            "10/10 [==============================] - 0s 5ms/step - loss: 1.0164 - mae: 1.0164 - mse: 1.5930 - val_loss: 1.1295 - val_mae: 1.1295 - val_mse: 1.9543\n",
            "Epoch 427/500\n",
            "10/10 [==============================] - 0s 5ms/step - loss: 1.0155 - mae: 1.0155 - mse: 1.5904 - val_loss: 1.1281 - val_mae: 1.1281 - val_mse: 1.9505\n",
            "Epoch 428/500\n",
            "10/10 [==============================] - 0s 6ms/step - loss: 1.0146 - mae: 1.0146 - mse: 1.5873 - val_loss: 1.1270 - val_mae: 1.1270 - val_mse: 1.9470\n",
            "Epoch 429/500\n",
            "10/10 [==============================] - 0s 4ms/step - loss: 1.0136 - mae: 1.0136 - mse: 1.5843 - val_loss: 1.1262 - val_mae: 1.1262 - val_mse: 1.9438\n",
            "Epoch 430/500\n",
            "10/10 [==============================] - 0s 5ms/step - loss: 1.0126 - mae: 1.0126 - mse: 1.5812 - val_loss: 1.1251 - val_mae: 1.1251 - val_mse: 1.9403\n",
            "Epoch 431/500\n",
            "10/10 [==============================] - 0s 4ms/step - loss: 1.0117 - mae: 1.0117 - mse: 1.5782 - val_loss: 1.1241 - val_mae: 1.1241 - val_mse: 1.9368\n",
            "Epoch 432/500\n",
            "10/10 [==============================] - 0s 5ms/step - loss: 1.0107 - mae: 1.0107 - mse: 1.5753 - val_loss: 1.1229 - val_mae: 1.1229 - val_mse: 1.9331\n",
            "Epoch 433/500\n",
            "10/10 [==============================] - 0s 5ms/step - loss: 1.0097 - mae: 1.0097 - mse: 1.5721 - val_loss: 1.1222 - val_mae: 1.1222 - val_mse: 1.9300\n",
            "Epoch 434/500\n",
            "10/10 [==============================] - 0s 5ms/step - loss: 1.0087 - mae: 1.0087 - mse: 1.5692 - val_loss: 1.1206 - val_mae: 1.1206 - val_mse: 1.9260\n",
            "Epoch 435/500\n",
            "10/10 [==============================] - 0s 7ms/step - loss: 1.0078 - mae: 1.0078 - mse: 1.5664 - val_loss: 1.1192 - val_mae: 1.1192 - val_mse: 1.9221\n",
            "Epoch 436/500\n",
            "10/10 [==============================] - 0s 6ms/step - loss: 1.0068 - mae: 1.0068 - mse: 1.5635 - val_loss: 1.1181 - val_mae: 1.1181 - val_mse: 1.9186\n",
            "Epoch 437/500\n",
            "10/10 [==============================] - 0s 5ms/step - loss: 1.0058 - mae: 1.0058 - mse: 1.5605 - val_loss: 1.1168 - val_mae: 1.1168 - val_mse: 1.9148\n",
            "Epoch 438/500\n",
            "10/10 [==============================] - 0s 5ms/step - loss: 1.0050 - mae: 1.0050 - mse: 1.5574 - val_loss: 1.1167 - val_mae: 1.1167 - val_mse: 1.9123\n",
            "Epoch 439/500\n",
            "10/10 [==============================] - 0s 5ms/step - loss: 1.0039 - mae: 1.0039 - mse: 1.5540 - val_loss: 1.1153 - val_mae: 1.1153 - val_mse: 1.9083\n",
            "Epoch 440/500\n",
            "10/10 [==============================] - 0s 5ms/step - loss: 1.0029 - mae: 1.0029 - mse: 1.5511 - val_loss: 1.1139 - val_mae: 1.1139 - val_mse: 1.9044\n",
            "Epoch 441/500\n",
            "10/10 [==============================] - 0s 5ms/step - loss: 1.0019 - mae: 1.0019 - mse: 1.5480 - val_loss: 1.1132 - val_mae: 1.1132 - val_mse: 1.9013\n",
            "Epoch 442/500\n",
            "10/10 [==============================] - 0s 4ms/step - loss: 1.0010 - mae: 1.0010 - mse: 1.5452 - val_loss: 1.1113 - val_mae: 1.1113 - val_mse: 1.8969\n",
            "Epoch 443/500\n",
            "10/10 [==============================] - 0s 4ms/step - loss: 0.9999 - mae: 0.9999 - mse: 1.5424 - val_loss: 1.1100 - val_mae: 1.1100 - val_mse: 1.8932\n",
            "Epoch 444/500\n",
            "10/10 [==============================] - 0s 5ms/step - loss: 0.9988 - mae: 0.9988 - mse: 1.5391 - val_loss: 1.1093 - val_mae: 1.1093 - val_mse: 1.8899\n",
            "Epoch 445/500\n",
            "10/10 [==============================] - 0s 4ms/step - loss: 0.9979 - mae: 0.9979 - mse: 1.5359 - val_loss: 1.1085 - val_mae: 1.1085 - val_mse: 1.8866\n",
            "Epoch 446/500\n",
            "10/10 [==============================] - 0s 7ms/step - loss: 0.9969 - mae: 0.9969 - mse: 1.5323 - val_loss: 1.1078 - val_mae: 1.1078 - val_mse: 1.8834\n",
            "Epoch 447/500\n",
            "10/10 [==============================] - 0s 4ms/step - loss: 0.9958 - mae: 0.9958 - mse: 1.5294 - val_loss: 1.1065 - val_mae: 1.1065 - val_mse: 1.8797\n",
            "Epoch 448/500\n",
            "10/10 [==============================] - 0s 5ms/step - loss: 0.9948 - mae: 0.9948 - mse: 1.5264 - val_loss: 1.1049 - val_mae: 1.1049 - val_mse: 1.8755\n",
            "Epoch 449/500\n",
            "10/10 [==============================] - 0s 7ms/step - loss: 0.9938 - mae: 0.9938 - mse: 1.5235 - val_loss: 1.1037 - val_mae: 1.1037 - val_mse: 1.8718\n",
            "Epoch 450/500\n",
            "10/10 [==============================] - 0s 5ms/step - loss: 0.9928 - mae: 0.9928 - mse: 1.5204 - val_loss: 1.1025 - val_mae: 1.1025 - val_mse: 1.8682\n",
            "Epoch 451/500\n",
            "10/10 [==============================] - 0s 5ms/step - loss: 0.9919 - mae: 0.9919 - mse: 1.5174 - val_loss: 1.1020 - val_mae: 1.1020 - val_mse: 1.8652\n",
            "Epoch 452/500\n",
            "10/10 [==============================] - 0s 5ms/step - loss: 0.9907 - mae: 0.9907 - mse: 1.5139 - val_loss: 1.1002 - val_mae: 1.1002 - val_mse: 1.8609\n",
            "Epoch 453/500\n",
            "10/10 [==============================] - 0s 4ms/step - loss: 0.9897 - mae: 0.9897 - mse: 1.5111 - val_loss: 1.0988 - val_mae: 1.0988 - val_mse: 1.8569\n",
            "Epoch 454/500\n",
            "10/10 [==============================] - 0s 6ms/step - loss: 0.9887 - mae: 0.9887 - mse: 1.5081 - val_loss: 1.0975 - val_mae: 1.0975 - val_mse: 1.8531\n",
            "Epoch 455/500\n",
            "10/10 [==============================] - 0s 5ms/step - loss: 0.9877 - mae: 0.9877 - mse: 1.5051 - val_loss: 1.0969 - val_mae: 1.0969 - val_mse: 1.8500\n",
            "Epoch 456/500\n",
            "10/10 [==============================] - 0s 5ms/step - loss: 0.9866 - mae: 0.9866 - mse: 1.5013 - val_loss: 1.0962 - val_mae: 1.0962 - val_mse: 1.8467\n",
            "Epoch 457/500\n",
            "10/10 [==============================] - 0s 5ms/step - loss: 0.9857 - mae: 0.9857 - mse: 1.4984 - val_loss: 1.0955 - val_mae: 1.0955 - val_mse: 1.8435\n",
            "Epoch 458/500\n",
            "10/10 [==============================] - 0s 6ms/step - loss: 0.9846 - mae: 0.9846 - mse: 1.4948 - val_loss: 1.0944 - val_mae: 1.0944 - val_mse: 1.8398\n",
            "Epoch 459/500\n",
            "10/10 [==============================] - 0s 5ms/step - loss: 0.9835 - mae: 0.9835 - mse: 1.4918 - val_loss: 1.0924 - val_mae: 1.0924 - val_mse: 1.8354\n",
            "Epoch 460/500\n",
            "10/10 [==============================] - 0s 5ms/step - loss: 0.9824 - mae: 0.9824 - mse: 1.4889 - val_loss: 1.0912 - val_mae: 1.0912 - val_mse: 1.8317\n",
            "Epoch 461/500\n",
            "10/10 [==============================] - 0s 6ms/step - loss: 0.9815 - mae: 0.9815 - mse: 1.4861 - val_loss: 1.0895 - val_mae: 1.0895 - val_mse: 1.8275\n",
            "Epoch 462/500\n",
            "10/10 [==============================] - 0s 4ms/step - loss: 0.9805 - mae: 0.9805 - mse: 1.4828 - val_loss: 1.0893 - val_mae: 1.0893 - val_mse: 1.8247\n",
            "Epoch 463/500\n",
            "10/10 [==============================] - 0s 4ms/step - loss: 0.9793 - mae: 0.9793 - mse: 1.4792 - val_loss: 1.0881 - val_mae: 1.0881 - val_mse: 1.8210\n",
            "Epoch 464/500\n",
            "10/10 [==============================] - 0s 4ms/step - loss: 0.9783 - mae: 0.9783 - mse: 1.4761 - val_loss: 1.0872 - val_mae: 1.0872 - val_mse: 1.8175\n",
            "Epoch 465/500\n",
            "10/10 [==============================] - 0s 5ms/step - loss: 0.9772 - mae: 0.9772 - mse: 1.4727 - val_loss: 1.0862 - val_mae: 1.0862 - val_mse: 1.8140\n",
            "Epoch 466/500\n",
            "10/10 [==============================] - 0s 5ms/step - loss: 0.9761 - mae: 0.9761 - mse: 1.4695 - val_loss: 1.0849 - val_mae: 1.0849 - val_mse: 1.8102\n",
            "Epoch 467/500\n",
            "10/10 [==============================] - 0s 5ms/step - loss: 0.9751 - mae: 0.9751 - mse: 1.4667 - val_loss: 1.0830 - val_mae: 1.0830 - val_mse: 1.8057\n",
            "Epoch 468/500\n",
            "10/10 [==============================] - 0s 5ms/step - loss: 0.9741 - mae: 0.9741 - mse: 1.4636 - val_loss: 1.0820 - val_mae: 1.0820 - val_mse: 1.8022\n",
            "Epoch 469/500\n",
            "10/10 [==============================] - 0s 5ms/step - loss: 0.9730 - mae: 0.9730 - mse: 1.4602 - val_loss: 1.0813 - val_mae: 1.0813 - val_mse: 1.7989\n",
            "Epoch 470/500\n",
            "10/10 [==============================] - 0s 4ms/step - loss: 0.9720 - mae: 0.9720 - mse: 1.4572 - val_loss: 1.0796 - val_mae: 1.0796 - val_mse: 1.7947\n",
            "Epoch 471/500\n",
            "10/10 [==============================] - 0s 5ms/step - loss: 0.9710 - mae: 0.9710 - mse: 1.4544 - val_loss: 1.0778 - val_mae: 1.0778 - val_mse: 1.7904\n",
            "Epoch 472/500\n",
            "10/10 [==============================] - 0s 5ms/step - loss: 0.9697 - mae: 0.9697 - mse: 1.4509 - val_loss: 1.0773 - val_mae: 1.0773 - val_mse: 1.7873\n",
            "Epoch 473/500\n",
            "10/10 [==============================] - 0s 5ms/step - loss: 0.9686 - mae: 0.9686 - mse: 1.4473 - val_loss: 1.0767 - val_mae: 1.0767 - val_mse: 1.7841\n",
            "Epoch 474/500\n",
            "10/10 [==============================] - 0s 5ms/step - loss: 0.9676 - mae: 0.9676 - mse: 1.4440 - val_loss: 1.0755 - val_mae: 1.0755 - val_mse: 1.7803\n",
            "Epoch 475/500\n",
            "10/10 [==============================] - 0s 6ms/step - loss: 0.9666 - mae: 0.9666 - mse: 1.4410 - val_loss: 1.0738 - val_mae: 1.0738 - val_mse: 1.7761\n",
            "Epoch 476/500\n",
            "10/10 [==============================] - 0s 4ms/step - loss: 0.9656 - mae: 0.9656 - mse: 1.4375 - val_loss: 1.0735 - val_mae: 1.0735 - val_mse: 1.7732\n",
            "Epoch 477/500\n",
            "10/10 [==============================] - 0s 6ms/step - loss: 0.9644 - mae: 0.9644 - mse: 1.4340 - val_loss: 1.0719 - val_mae: 1.0719 - val_mse: 1.7691\n",
            "Epoch 478/500\n",
            "10/10 [==============================] - 0s 5ms/step - loss: 0.9632 - mae: 0.9632 - mse: 1.4312 - val_loss: 1.0703 - val_mae: 1.0703 - val_mse: 1.7650\n",
            "Epoch 479/500\n",
            "10/10 [==============================] - 0s 6ms/step - loss: 0.9621 - mae: 0.9621 - mse: 1.4279 - val_loss: 1.0689 - val_mae: 1.0689 - val_mse: 1.7610\n",
            "Epoch 480/500\n",
            "10/10 [==============================] - 0s 4ms/step - loss: 0.9611 - mae: 0.9611 - mse: 1.4250 - val_loss: 1.0673 - val_mae: 1.0673 - val_mse: 1.7569\n",
            "Epoch 481/500\n",
            "10/10 [==============================] - 0s 5ms/step - loss: 0.9600 - mae: 0.9600 - mse: 1.4222 - val_loss: 1.0659 - val_mae: 1.0659 - val_mse: 1.7529\n",
            "Epoch 482/500\n",
            "10/10 [==============================] - 0s 4ms/step - loss: 0.9589 - mae: 0.9589 - mse: 1.4187 - val_loss: 1.0646 - val_mae: 1.0646 - val_mse: 1.7491\n",
            "Epoch 483/500\n",
            "10/10 [==============================] - 0s 4ms/step - loss: 0.9577 - mae: 0.9577 - mse: 1.4154 - val_loss: 1.0637 - val_mae: 1.0637 - val_mse: 1.7455\n",
            "Epoch 484/500\n",
            "10/10 [==============================] - 0s 5ms/step - loss: 0.9566 - mae: 0.9566 - mse: 1.4118 - val_loss: 1.0629 - val_mae: 1.0629 - val_mse: 1.7421\n",
            "Epoch 485/500\n",
            "10/10 [==============================] - 0s 5ms/step - loss: 0.9555 - mae: 0.9555 - mse: 1.4084 - val_loss: 1.0620 - val_mae: 1.0620 - val_mse: 1.7386\n",
            "Epoch 486/500\n",
            "10/10 [==============================] - 0s 6ms/step - loss: 0.9544 - mae: 0.9544 - mse: 1.4051 - val_loss: 1.0604 - val_mae: 1.0604 - val_mse: 1.7344\n",
            "Epoch 487/500\n",
            "10/10 [==============================] - 0s 5ms/step - loss: 0.9533 - mae: 0.9533 - mse: 1.4021 - val_loss: 1.0590 - val_mae: 1.0590 - val_mse: 1.7304\n",
            "Epoch 488/500\n",
            "10/10 [==============================] - 0s 5ms/step - loss: 0.9522 - mae: 0.9522 - mse: 1.3991 - val_loss: 1.0574 - val_mae: 1.0574 - val_mse: 1.7263\n",
            "Epoch 489/500\n",
            "10/10 [==============================] - 0s 4ms/step - loss: 0.9511 - mae: 0.9511 - mse: 1.3958 - val_loss: 1.0569 - val_mae: 1.0569 - val_mse: 1.7231\n",
            "Epoch 490/500\n",
            "10/10 [==============================] - 0s 6ms/step - loss: 0.9499 - mae: 0.9499 - mse: 1.3920 - val_loss: 1.0555 - val_mae: 1.0555 - val_mse: 1.7191\n",
            "Epoch 491/500\n",
            "10/10 [==============================] - 0s 6ms/step - loss: 0.9488 - mae: 0.9488 - mse: 1.3888 - val_loss: 1.0539 - val_mae: 1.0539 - val_mse: 1.7150\n",
            "Epoch 492/500\n",
            "10/10 [==============================] - 0s 4ms/step - loss: 0.9476 - mae: 0.9476 - mse: 1.3855 - val_loss: 1.0527 - val_mae: 1.0527 - val_mse: 1.7112\n",
            "Epoch 493/500\n",
            "10/10 [==============================] - 0s 5ms/step - loss: 0.9465 - mae: 0.9465 - mse: 1.3823 - val_loss: 1.0512 - val_mae: 1.0512 - val_mse: 1.7071\n",
            "Epoch 494/500\n",
            "10/10 [==============================] - 0s 5ms/step - loss: 0.9455 - mae: 0.9455 - mse: 1.3792 - val_loss: 1.0503 - val_mae: 1.0503 - val_mse: 1.7037\n",
            "Epoch 495/500\n",
            "10/10 [==============================] - 0s 5ms/step - loss: 0.9443 - mae: 0.9443 - mse: 1.3759 - val_loss: 1.0482 - val_mae: 1.0482 - val_mse: 1.6990\n",
            "Epoch 496/500\n",
            "10/10 [==============================] - 0s 5ms/step - loss: 0.9431 - mae: 0.9431 - mse: 1.3728 - val_loss: 1.0474 - val_mae: 1.0474 - val_mse: 1.6956\n",
            "Epoch 497/500\n",
            "10/10 [==============================] - 0s 5ms/step - loss: 0.9419 - mae: 0.9419 - mse: 1.3691 - val_loss: 1.0462 - val_mae: 1.0462 - val_mse: 1.6918\n",
            "Epoch 498/500\n",
            "10/10 [==============================] - 0s 6ms/step - loss: 0.9409 - mae: 0.9409 - mse: 1.3665 - val_loss: 1.0442 - val_mae: 1.0442 - val_mse: 1.6873\n",
            "Epoch 499/500\n",
            "10/10 [==============================] - 0s 5ms/step - loss: 0.9397 - mae: 0.9397 - mse: 1.3631 - val_loss: 1.0428 - val_mae: 1.0428 - val_mse: 1.6833\n",
            "Epoch 500/500\n",
            "10/10 [==============================] - 0s 5ms/step - loss: 0.9385 - mae: 0.9385 - mse: 1.3596 - val_loss: 1.0420 - val_mae: 1.0420 - val_mse: 1.6798\n"
          ],
          "name": "stdout"
        }
      ]
    },
    {
      "cell_type": "code",
      "metadata": {
        "colab": {
          "base_uri": "https://localhost:8080/"
        },
        "id": "AEDcot-7vK9Y",
        "outputId": "87ef5fde-1181-4d1a-8d8f-6cf7e9bb4db1"
      },
      "source": [
        "model.summary()"
      ],
      "execution_count": 40,
      "outputs": [
        {
          "output_type": "stream",
          "text": [
            "Model: \"sequential\"\n",
            "_________________________________________________________________\n",
            "Layer (type)                 Output Shape              Param #   \n",
            "=================================================================\n",
            "dense (Dense)                (None, 1)                 2         \n",
            "=================================================================\n",
            "Total params: 2\n",
            "Trainable params: 2\n",
            "Non-trainable params: 0\n",
            "_________________________________________________________________\n"
          ],
          "name": "stdout"
        }
      ]
    },
    {
      "cell_type": "code",
      "metadata": {
        "colab": {
          "base_uri": "https://localhost:8080/",
          "height": 1000
        },
        "id": "sAp9Ne5UvQnx",
        "outputId": "6c48f52a-fec4-4889-b52d-11496c5a28ae"
      },
      "source": [
        "def curvePlots(tempString):\n",
        "  plt.plot(history.history[tempString])\n",
        "  plt.plot(history.history[f'val_{tempString}'])\n",
        "  plt.xlabel('NumEpochs')\n",
        "  plt.ylabel(tempString)\n",
        "  plt.legend([tempString, f'val_{tempString}'])\n",
        "  plt.show()\n",
        "\n",
        "\n",
        "curvePlots('mse')\n",
        "curvePlots('mae')\n",
        "curvePlots('loss')"
      ],
      "execution_count": 41,
      "outputs": [
        {
          "output_type": "display_data",
          "data": {
            "image/png": "[encoded data removed]",
            "text/plain": [
              "<Figure size 576x396 with 1 Axes>"
            ]
          },
          "metadata": {
            "tags": []
          }
        },
        {
          "output_type": "display_data",
          "data": {
            "image/png": "[encoded data removed]",
            "text/plain": [
              "<Figure size 576x396 with 1 Axes>"
            ]
          },
          "metadata": {
            "tags": []
          }
        },
        {
          "output_type": "display_data",
          "data": {
            "image/png": "[encoded data removed]",
            "text/plain": [
              "<Figure size 576x396 with 1 Axes>"
            ]
          },
          "metadata": {
            "tags": []
          }
        }
      ]
    },
    {
      "cell_type": "code",
      "metadata": {
        "colab": {
          "base_uri": "https://localhost:8080/"
        },
        "id": "Pm_y2659vVwH",
        "outputId": "a517254e-328d-4cba-d698-a7a6a8edf202"
      },
      "source": [
        "model.predict([1])"
      ],
      "execution_count": 42,
      "outputs": [
        {
          "output_type": "execute_result",
          "data": {
            "text/plain": [
              "array([[4.707558]], dtype=float32)"
            ]
          },
          "metadata": {
            "tags": []
          },
          "execution_count": 42
        }
      ]
    },
    {
      "cell_type": "code",
      "metadata": {
        "colab": {
          "base_uri": "https://localhost:8080/"
        },
        "id": "cuCtPxfjveDG",
        "outputId": "56e01067-56f6-4aae-e934-e26f8139b702"
      },
      "source": [
        "print(f'Prediction for input value 1: {model.predict([1])}')\n",
        "\n",
        "\n",
        "tempListforPreds = [1,2,3,4,5]\n",
        "print(f'''\n",
        "\n",
        "input List = {tempListforPreds}\n",
        "\n",
        "\n",
        "List of Predictions:\n",
        "{model.predict(tempListforPreds)}\n",
        "\n",
        "List of Predictions (flattened out):\n",
        "{model.predict(tempListforPreds).flatten()}\n",
        "''')"
      ],
      "execution_count": 43,
      "outputs": [
        {
          "output_type": "stream",
          "text": [
            "Prediction for input value 1: [[4.707558]]\n",
            "\n",
            "\n",
            "input List = [1, 2, 3, 4, 5]\n",
            "\n",
            "\n",
            "List of Predictions:\n",
            "[[ 4.707558 ]\n",
            " [ 6.204184 ]\n",
            " [ 7.7008095]\n",
            " [ 9.197435 ]\n",
            " [10.694061 ]]\n",
            "\n",
            "List of Predictions (flattened out):\n",
            "[ 4.707558   6.204184   7.7008095  9.197435  10.694061 ]\n",
            "\n"
          ],
          "name": "stdout"
        }
      ]
    },
    {
      "cell_type": "code",
      "metadata": {
        "colab": {
          "base_uri": "https://localhost:8080/"
        },
        "id": "CH98xpA5vmP2",
        "outputId": "3df0a8fc-95d1-4788-d6ce-d70299c82c2f"
      },
      "source": [
        "print(testFeatures)"
      ],
      "execution_count": 44,
      "outputs": [
        {
          "output_type": "stream",
          "text": [
            "     SOP\n",
            "9    3.5\n",
            "25   4.5\n",
            "28   2.0\n",
            "31   4.0\n",
            "32   3.0\n",
            "..   ...\n",
            "370  2.5\n",
            "372  4.5\n",
            "384  5.0\n",
            "386  2.5\n",
            "398  3.5\n",
            "\n",
            "[80 rows x 1 columns]\n"
          ],
          "name": "stdout"
        }
      ]
    },
    {
      "cell_type": "code",
      "metadata": {
        "id": "c71na5xHvuzv"
      },
      "source": [
        "testPreds = model.predict(testFeatures).flatten() "
      ],
      "execution_count": 45,
      "outputs": []
    },
    {
      "cell_type": "code",
      "metadata": {
        "colab": {
          "base_uri": "https://localhost:8080/"
        },
        "id": "-FfXwK86v3IL",
        "outputId": "8ce373f3-58b0-4472-82c2-f3c4367375c5"
      },
      "source": [
        "print(len(testPreds))\n",
        "print(testPreds)"
      ],
      "execution_count": 46,
      "outputs": [
        {
          "output_type": "stream",
          "text": [
            "80\n",
            "[ 8.449122   9.945748   6.204184   9.197435   7.7008095  7.7008095\n",
            "  9.197435   6.952497   9.945748   9.197435   9.197435  10.694061\n",
            " 10.694061  10.694061   9.945748   8.449122   9.945748  10.694061\n",
            "  9.197435   9.197435   9.945748   6.204184   7.7008095  9.945748\n",
            "  6.952497   8.449122  10.694061   7.7008095 10.694061   8.449122\n",
            "  9.945748   9.197435   9.197435   8.449122   9.197435   9.945748\n",
            "  9.945748   9.945748   7.7008095  8.449122   9.945748   9.197435\n",
            " 10.694061   8.449122   8.449122   6.952497   6.952497   9.197435\n",
            "  6.952497   6.952497   7.7008095  4.707558   6.952497   9.197435\n",
            " 10.694061   6.952497   5.455871   4.707558   7.7008095  9.197435\n",
            "  6.204184   7.7008095  7.7008095  9.197435  10.694061   9.197435\n",
            "  5.455871   4.707558   8.449122   6.204184   8.449122   6.204184\n",
            "  9.945748   8.449122   6.204184   6.952497   9.945748  10.694061\n",
            "  6.952497   8.449122 ]\n"
          ],
          "name": "stdout"
        }
      ]
    },
    {
      "cell_type": "code",
      "metadata": {
        "colab": {
          "base_uri": "https://localhost:8080/",
          "height": 361
        },
        "id": "hlHVCmxav5Eu",
        "outputId": "0a87a560-7940-45b3-8b42-8734a12b062c"
      },
      "source": [
        "def predPlot(labels, predictions):\n",
        "  plt.scatter(labels, predictions)\n",
        "  plt.ylabel('Predictions')\n",
        "  plt.xlabel('True Value or Labels')\n",
        "  plt.axis('equal')\n",
        "  plt.axis('square')\n",
        "  plt.xlim([0, plt.xlim()[1]])\n",
        "  plt.ylim([0, plt.ylim()[1]])\n",
        "  plt.show()\n",
        "\n",
        "predPlot(testLabels, testPreds)"
      ],
      "execution_count": 47,
      "outputs": [
        {
          "output_type": "display_data",
          "data": {
            "image/png": "[encoded data removed]",
            "text/plain": [
              "<Figure size 576x396 with 1 Axes>"
            ]
          },
          "metadata": {
            "tags": []
          }
        }
      ]
    },
    {
      "cell_type": "code",
      "metadata": {
        "colab": {
          "base_uri": "https://localhost:8080/",
          "height": 361
        },
        "id": "jLoLsf9_zJHC",
        "outputId": "56dec3b4-57db-4e97-8d32-22c0665b8b0a"
      },
      "source": [
        "def errorPlot(preds, labels, counts):\n",
        "  errors = preds - labels\n",
        "  plt.hist(errors, counts)\n",
        "  plt.xlabel('Error')\n",
        "  plt.ylabel('Counts')\n",
        "  plt.show()\n",
        "\n",
        "errorPlot(testPreds, testLabels, numEpochs)"
      ],
      "execution_count": 53,
      "outputs": [
        {
          "output_type": "display_data",
          "data": {
            "image/png": "[encoded data removed]",
            "text/plain": [
              "<Figure size 576x396 with 1 Axes>"
            ]
          },
          "metadata": {
            "tags": []
          }
        }
      ]
    }
  ]
}